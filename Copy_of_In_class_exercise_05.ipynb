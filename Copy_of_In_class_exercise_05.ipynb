{
  "nbformat": 4,
  "nbformat_minor": 0,
  "metadata": {
    "colab": {
      "name": " Copy of In_class_exercise_05.ipynb",
      "provenance": [],
      "collapsed_sections": [],
      "include_colab_link": true
    },
    "kernelspec": {
      "name": "python3",
      "display_name": "Python 3"
    }
  },
  "cells": [
    {
      "cell_type": "markdown",
      "metadata": {
        "id": "view-in-github",
        "colab_type": "text"
      },
      "source": [
        "<a href=\"https://colab.research.google.com/github/DeepakSaiPaty/Deepaksai_INFO5731_Spring2020/blob/master/Copy_of_In_class_exercise_05.ipynb\" target=\"_parent\"><img src=\"https://colab.research.google.com/assets/colab-badge.svg\" alt=\"Open In Colab\"/></a>"
      ]
    },
    {
      "cell_type": "markdown",
      "metadata": {
        "id": "z7TahL04sVvR",
        "colab_type": "text"
      },
      "source": [
        "# **The fifth in-class-exercise**"
      ]
    },
    {
      "cell_type": "markdown",
      "metadata": {
        "id": "ejyZITr8sjnh",
        "colab_type": "text"
      },
      "source": [
        "## **1. Rule-based information extraction**\n",
        "\n",
        "Use any keywords related to data science, natural language processing, machine learning to search from google scholar, get the **titles** of 100 articles (either by web scraping or manually) about this topic, define a set of patterns to extract the research questions/problems, methods/algorithms/models, datasets, applications, or any other important information about this topic. "
      ]
    },
    {
      "cell_type": "code",
      "metadata": {
        "id": "XvR_O9D8sOUY",
        "colab_type": "code",
        "outputId": "63a5acee-fb85-4759-ddb0-a1e84b728136",
        "colab": {
          "base_uri": "https://localhost:8080/",
          "height": 410
        }
      },
      "source": [
        "import pandas as pd\n",
        "titles_df = pd.read_csv(\"/content/Titles_data.csv\")\n",
        "titles_df"
      ],
      "execution_count": 0,
      "outputs": [
        {
          "output_type": "execute_result",
          "data": {
            "text/html": [
              "<div>\n",
              "<style scoped>\n",
              "    .dataframe tbody tr th:only-of-type {\n",
              "        vertical-align: middle;\n",
              "    }\n",
              "\n",
              "    .dataframe tbody tr th {\n",
              "        vertical-align: top;\n",
              "    }\n",
              "\n",
              "    .dataframe thead th {\n",
              "        text-align: right;\n",
              "    }\n",
              "</style>\n",
              "<table border=\"1\" class=\"dataframe\">\n",
              "  <thead>\n",
              "    <tr style=\"text-align: right;\">\n",
              "      <th></th>\n",
              "      <th>Titles</th>\n",
              "    </tr>\n",
              "  </thead>\n",
              "  <tbody>\n",
              "    <tr>\n",
              "      <th>0</th>\n",
              "      <td>Principles of data mining</td>\n",
              "    </tr>\n",
              "    <tr>\n",
              "      <th>1</th>\n",
              "      <td>Privacy-preserving data mining</td>\n",
              "    </tr>\n",
              "    <tr>\n",
              "      <th>2</th>\n",
              "      <td>Data mining: concepts and techniques</td>\n",
              "    </tr>\n",
              "    <tr>\n",
              "      <th>3</th>\n",
              "      <td>Data preparation for data mining</td>\n",
              "    </tr>\n",
              "    <tr>\n",
              "      <th>4</th>\n",
              "      <td>Untangling text data mining</td>\n",
              "    </tr>\n",
              "    <tr>\n",
              "      <th>...</th>\n",
              "      <td>...</td>\n",
              "    </tr>\n",
              "    <tr>\n",
              "      <th>95</th>\n",
              "      <td>Data mining methods for detection of new malic...</td>\n",
              "    </tr>\n",
              "    <tr>\n",
              "      <th>96</th>\n",
              "      <td>Knowledge management and data mining for marke...</td>\n",
              "    </tr>\n",
              "    <tr>\n",
              "      <th>97</th>\n",
              "      <td>Applied data mining: statistical methods for b...</td>\n",
              "    </tr>\n",
              "    <tr>\n",
              "      <th>98</th>\n",
              "      <td>A data mining framework for building intrusion...</td>\n",
              "    </tr>\n",
              "    <tr>\n",
              "      <th>99</th>\n",
              "      <td>From visual data exploration to visual data mi...</td>\n",
              "    </tr>\n",
              "  </tbody>\n",
              "</table>\n",
              "<p>100 rows × 1 columns</p>\n",
              "</div>"
            ],
            "text/plain": [
              "                                               Titles\n",
              "0                           Principles of data mining\n",
              "1                      Privacy-preserving data mining\n",
              "2                Data mining: concepts and techniques\n",
              "3                    Data preparation for data mining\n",
              "4                         Untangling text data mining\n",
              "..                                                ...\n",
              "95  Data mining methods for detection of new malic...\n",
              "96  Knowledge management and data mining for marke...\n",
              "97  Applied data mining: statistical methods for b...\n",
              "98  A data mining framework for building intrusion...\n",
              "99  From visual data exploration to visual data mi...\n",
              "\n",
              "[100 rows x 1 columns]"
            ]
          },
          "metadata": {
            "tags": []
          },
          "execution_count": 2
        }
      ]
    },
    {
      "cell_type": "code",
      "metadata": {
        "id": "2Cjk-nXv44HJ",
        "colab_type": "code",
        "outputId": "67fc2e64-2ef7-40f7-94b7-f2d66c6524bf",
        "colab": {
          "base_uri": "https://localhost:8080/",
          "height": 54
        }
      },
      "source": [
        "data=''\n",
        "for i in titles_df['Titles']:\n",
        "  data=data+' '+i\n",
        "data"
      ],
      "execution_count": 0,
      "outputs": [
        {
          "output_type": "execute_result",
          "data": {
            "text/plain": [
              "\" Principles of data mining Privacy-preserving data mining Data mining: concepts and techniques Data preparation for data mining Untangling text data mining Data mining applications in healthcare Relational data mining Data warehousing, data mining, and OLAP Data mining with big data Discovering knowledge in data: an introduction to data mining Top 10 algorithms in data mining The WEKA data mining software: an update Data mining and knowledge discovery handbook From data mining to knowledge discovery in databases Data mining: practical machine learning tools and techniques with Java implementations A survey of clustering data mining techniques Introduction to data mining Privacy preserving data mining Uniqueness of medical data mining Mastering data mining: The art and science of customer relationship management Predictive data mining: a practical guide Data mining: an overview from a database perspective Data mining for education Geographic data mining and knowledge discovery Data mining: Introductory and advanced topics Data mining techniques Data mining and knowledge discovery Data mining: the textbook Information visualization and visual data mining Advanced data mining techniques The data warehouse and data mining Data mining approaches for intrusion detection Data mining with an ant colony optimization algorithm Exploratory data mining and data cleaning The top ten algorithms in data mining Data mining: a tutorial-based primer Automatic subspace clustering of high dimensional data for data mining applications Principles of data mining Data mining with decision trees: theory and applications Towards parameter-free data mining Educational data mining: A survey from 1995 to 2005 Feature selection for knowledge discovery and data mining Data mining in bioinformatics using Weka Data mining: concepts, models, methods, and algorithms Tools for privacy preserving distributed data mining E cient and E ective clustering methods for spatial data mining A review on time series data mining What is Data Mining SLIQ: A fast scalable classifier for data mining Mining graph data Introduction to business data mining Data mining in education The elements of statistical learning: data mining, inference, and prediction Data preparation for data mining Graph-based data mining Data mining for imbalanced datasets: An overview Secure multiparty computation for privacy preserving data mining Knowledge Discovery and Data Mining: Towards a Unifying Framework. Orange: data mining toolbox in Python Mining of massive datasets Data Mining: Concepts, models and techniques Handbook of educational data mining Information visualization in data mining and knowledge discovery Mining educational data to analyze students' performance Bayesian networks for data mining Data mining and analysis: fundamental concepts and algorithms Data mining methods and models Data mining of user navigation patterns Machine learning and data mining Yale: Rapid prototyping for complex data mining tasks State-of-the-art in privacy preserving data mining Data mining techniques: for marketing, sales, and customer relationship management Data mining with R: learning with case studies Temporal data mining Data mining techniques for customer relationship management Trajectory data mining: an overview Learning analytics and educational data mining: towards communication and collaboration STING: A statistical information grid approach to spatial data mining Data mining for web personalization Interestingness measures for data mining: A survey Data mining: a knowledge discovery approach Effective data mining using neural networks SPRINT: A scalable parallel classifier for data mining Educational data mining: a review of the state of the art Data mining: statistics and more? Privacy preserving data mining. Educational data mining and learning analytics Spatial clustering methods in data mining Research issues in web data mining Privacy preserving association rule mining in vertically partitioned data Keel data-mining software tool: data set repository, integration of algorithms and experimental analysis framework. Feature extraction, construction and selection: A data mining perspective Data preprocessing in data mining Data mining and knowledge discovery with evolutionary algorithms Mining text data Data mining methods for detection of new malicious executables Knowledge management and data mining for marketing Applied data mining: statistical methods for business and industry A data mining framework for building intrusion detection models From visual data exploration to visual data mining: A survey\""
            ]
          },
          "metadata": {
            "tags": []
          },
          "execution_count": 3
        }
      ]
    },
    {
      "cell_type": "code",
      "metadata": {
        "id": "9MGV8cpAGW_w",
        "colab_type": "code",
        "outputId": "f313dc0f-6a67-4b09-b0ed-4d981fdaac35",
        "colab": {
          "base_uri": "https://localhost:8080/",
          "height": 318
        }
      },
      "source": [
        "pip install spacy"
      ],
      "execution_count": 0,
      "outputs": [
        {
          "output_type": "stream",
          "text": [
            "Requirement already satisfied: spacy in /usr/local/lib/python3.6/dist-packages (2.1.9)\n",
            "Requirement already satisfied: plac<1.0.0,>=0.9.6 in /usr/local/lib/python3.6/dist-packages (from spacy) (0.9.6)\n",
            "Requirement already satisfied: blis<0.3.0,>=0.2.2 in /usr/local/lib/python3.6/dist-packages (from spacy) (0.2.4)\n",
            "Requirement already satisfied: wasabi<1.1.0,>=0.2.0 in /usr/local/lib/python3.6/dist-packages (from spacy) (0.6.0)\n",
            "Requirement already satisfied: numpy>=1.15.0 in /usr/local/lib/python3.6/dist-packages (from spacy) (1.17.5)\n",
            "Requirement already satisfied: srsly<1.1.0,>=0.0.6 in /usr/local/lib/python3.6/dist-packages (from spacy) (1.0.1)\n",
            "Requirement already satisfied: thinc<7.1.0,>=7.0.8 in /usr/local/lib/python3.6/dist-packages (from spacy) (7.0.8)\n",
            "Requirement already satisfied: cymem<2.1.0,>=2.0.2 in /usr/local/lib/python3.6/dist-packages (from spacy) (2.0.3)\n",
            "Requirement already satisfied: murmurhash<1.1.0,>=0.28.0 in /usr/local/lib/python3.6/dist-packages (from spacy) (1.0.2)\n",
            "Requirement already satisfied: requests<3.0.0,>=2.13.0 in /usr/local/lib/python3.6/dist-packages (from spacy) (2.21.0)\n",
            "Requirement already satisfied: preshed<2.1.0,>=2.0.1 in /usr/local/lib/python3.6/dist-packages (from spacy) (2.0.1)\n",
            "Requirement already satisfied: tqdm<5.0.0,>=4.10.0 in /usr/local/lib/python3.6/dist-packages (from thinc<7.1.0,>=7.0.8->spacy) (4.28.1)\n",
            "Requirement already satisfied: urllib3<1.25,>=1.21.1 in /usr/local/lib/python3.6/dist-packages (from requests<3.0.0,>=2.13.0->spacy) (1.24.3)\n",
            "Requirement already satisfied: idna<2.9,>=2.5 in /usr/local/lib/python3.6/dist-packages (from requests<3.0.0,>=2.13.0->spacy) (2.8)\n",
            "Requirement already satisfied: chardet<3.1.0,>=3.0.2 in /usr/local/lib/python3.6/dist-packages (from requests<3.0.0,>=2.13.0->spacy) (3.0.4)\n",
            "Requirement already satisfied: certifi>=2017.4.17 in /usr/local/lib/python3.6/dist-packages (from requests<3.0.0,>=2.13.0->spacy) (2019.11.28)\n"
          ],
          "name": "stdout"
        }
      ]
    },
    {
      "cell_type": "code",
      "metadata": {
        "id": "br3ZQxb2Gkm9",
        "colab_type": "code",
        "outputId": "3f226e24-f8be-48e4-d84f-4d5548209310",
        "colab": {
          "base_uri": "https://localhost:8080/",
          "height": 650
        }
      },
      "source": [
        "from spacy.lang.en import English\n",
        "from spacy.matcher import Matcher\n",
        "from spacy.tokens import Doc\n",
        "nlp=English()\n",
        "results=[]\n",
        "matcher = Matcher(nlp.vocab,validate=True)\n",
        "def extract_full_name(nlp_doc):\n",
        "  pattern_1 = [{\"TEXT\": {\"REGEX\": \"^(A|a)\\w+$\"}},{\"TEXT\": {\"REGEX\": \"^(D|d)\\w+$\"}},\n",
        "           {\"TEXT\": {\"REGEX\": \"^(M|m)\\w+$\"}}]\n",
        "  pattern_2 = [{\"TEXT\": {\"REGEX\": \"^(D|d)\\w+$\"}},{\"TEXT\": {\"REGEX\": \"^(M|m)\\w+$\"}},\n",
        "           {\"TEXT\": {\"REGEX\": \"^(I|i)(N|n)$\"}},{\"TEXT\": {\"REGEX\": \"^\\w+$\"}}]\n",
        "  pattern_3 = [{\"TEXT\": {\"REGEX\": \"^\\w+$\"}},{\"TEXT\": {\"REGEX\": \"^\\w+$\"}},{\"TEXT\": {\"REGEX\": \"^(A|a)\\w+$\"}},\n",
        "           {\"TEXT\": {\"REGEX\": \"^(D|d)\\w+$\"}},{\"TEXT\": {\"REGEX\": \"^(M|m)\\w+$\"}}]\n",
        "  pattern_4 = [{\"TEXT\": {\"REGEX\": \"^\\w+$\"}},{\"TEXT\": {\"REGEX\": \"^(I|i)\\w+$\"}},{\"TEXT\": {\"REGEX\": \"^(I|i)\\w+$\"}},{\"TEXT\": {\"REGEX\": \"^\\w+$\"}},\n",
        "           {\"TEXT\": {\"REGEX\": \"^(D|d)\\w+$\"}},{\"TEXT\": {\"REGEX\": \"^(M|m)\\w+$\"}}]\n",
        "  pattern_5 = [{\"TEXT\": {\"REGEX\": \"^\\w+$\"}},{\"TEXT\": {\"REGEX\": \"^(M|m)ethod\\w+$\"}}]\n",
        "  pattern_6 = [{\"TEXT\": {\"REGEX\": \"^(D|d)\\w+$\"}},{\"TEXT\": {\"REGEX\": \"^(M|m)\\w+$\"}},{\"TEXT\": {\"REGEX\": \"^(A|a)\\w+$\"}},{\"TEXT\": {\"REGEX\": \"^(I|i)\\w+$\"}},{\"TEXT\": {\"REGEX\": \"^\\w+$\"}}]\n",
        "  pattern_7 = [{\"TEXT\": {\"REGEX\": \"^(D|d)\\w+$\"}},{\"TEXT\": {\"REGEX\": \"^(M|m)\\w+$\"}},{'IS_PUNCT': True, 'OP': '+'},{\"TEXT\": {\"REGEX\": \"^\\w+$\"}},{\"TEXT\": {\"REGEX\": \"^\\w+$\"}},{\"TEXT\": {\"REGEX\": \"^\\w+$\"}},{\"TEXT\": {\"REGEX\": \"^\\w+$\"}},{\"TEXT\": {\"REGEX\": \"^\\w+$\"}},{\"TEXT\": {\"REGEX\": \"^\\w+$\"}}]\n",
        "  matcher.add('Imp_Topics_1', None,pattern_2)\n",
        "  matcher.add('application', None,pattern_1)\n",
        "  matcher.add('Imp_Topics_2', None,pattern_3)\n",
        "  matcher.add('issues', None,pattern_4)\n",
        "  matcher.add('methods', None,pattern_5)\n",
        "  matcher.add('methods', None,pattern_6)\n",
        "  matcher.add('methods', None,pattern_7)\n",
        "  matches = matcher(nlp_doc)\n",
        "  for match_id, start, end in matches:\n",
        "    span = nlp_doc[start:end]\n",
        "    results.append(span.text)\n",
        "doc=nlp(data)\n",
        "extract_full_name(doc)\n",
        "for i in results:\n",
        "  if i=='and data mining' or i=='and Data Mining':\n",
        "    results.remove(i)\n",
        "print('Applications,Important topics,Issues,methods->')\n",
        "results"
      ],
      "execution_count": 16,
      "outputs": [
        {
          "output_type": "stream",
          "text": [
            "Applications,Important topics,Issues,methods->\n"
          ],
          "name": "stdout"
        },
        {
          "output_type": "execute_result",
          "data": {
            "text/plain": [
              "['Data mining: concepts and techniques Data preparation for',\n",
              " 'Data mining applications in healthcare',\n",
              " 'data mining, and OLAP Data mining with big',\n",
              " 'Data mining: practical machine learning tools and techniques',\n",
              " 'data mining: The art and science of customer',\n",
              " 'Data mining: an overview from a database perspective',\n",
              " 'Data mining: Introductory and advanced topics Data mining',\n",
              " 'Data mining: the textbook Information visualization and visual',\n",
              " 'data mining Advanced data mining',\n",
              " 'Advanced data mining',\n",
              " 'data warehouse and data mining',\n",
              " 'data mining: A survey from 1995 to 2005',\n",
              " 'knowledge discovery and data mining',\n",
              " 'Data mining in bioinformatics',\n",
              " 'clustering methods',\n",
              " 'Data mining in education',\n",
              " 'Knowledge Discovery and Data Mining',\n",
              " 'concepts and algorithms Data mining',\n",
              " 'algorithms Data mining',\n",
              " 'mining methods',\n",
              " 'Machine learning and data mining',\n",
              " 'data mining: an overview Learning analytics and educational',\n",
              " 'Data mining: a knowledge discovery approach Effective data',\n",
              " 'data mining: a review of the state of',\n",
              " 'of the art Data mining',\n",
              " 'art Data mining',\n",
              " 'data mining. Educational data mining and learning analytics',\n",
              " 'clustering methods',\n",
              " 'Research issues in web data mining',\n",
              " 'mining methods',\n",
              " 'Knowledge management and data mining',\n",
              " 'for marketing Applied data mining',\n",
              " 'Applied data mining',\n",
              " 'statistical methods',\n",
              " 'data mining: statistical methods for business and industry']"
            ]
          },
          "metadata": {
            "tags": []
          },
          "execution_count": 16
        }
      ]
    },
    {
      "cell_type": "markdown",
      "metadata": {
        "id": "Dq_7VGmrsum4",
        "colab_type": "text"
      },
      "source": [
        "## **2. Domain-specific information extraction**\n",
        "\n",
        "For the legal case used in the data cleaning exercise: [01-05-1 Adams v Tanner.txt](https://raw.githubusercontent.com/unt-iialab/INFO5731_Spring2020/master/In_class_exercise/01-05-1%20%20Adams%20v%20Tanner.txt), use [legalNLP](https://lexpredict-lexnlp.readthedocs.io/en/latest/modules/extract/extract.html#nlp-based-extraction-methods) to extract the following inforation from the text (if the information is not exist, just print None):\n",
        "\n",
        "(1) acts, e.g., “section 1 of the Advancing Hope Act, 1986”\n",
        "\n",
        "(2) amounts, e.g., “ten pounds” or “5.8 megawatts”\n",
        "\n",
        "(3) citations, e.g., “10 U.S. 100” or “1998 S. Ct. 1”\n",
        "\n",
        "(4) companies, e.g., “Lexpredict LLC”\n",
        "\n",
        "(5) conditions, e.g., “subject to …” or “unless and until …”\n",
        "\n",
        "(6) constraints, e.g., “no more than”\n",
        "\n",
        "(7) copyright, e.g., “(C) Copyright 2000 Acme”\n",
        "\n",
        "(8) courts, e.g., “Supreme Court of New York”\n",
        "\n",
        "(9) CUSIP, e.g., “392690QT3”\n",
        "\n",
        "(10) dates, e.g., “June 1, 2017” or “2018-01-01”\n",
        "\n",
        "(11) definitions, e.g., “Term shall mean …”\n",
        "\n",
        "(12) distances, e.g., “fifteen miles”\n",
        "\n",
        "(13) durations, e.g., “ten years” or “thirty days”\n",
        "\n",
        "(14) geographic and geopolitical entities, e.g., “New York” or “Norway”\n",
        "\n",
        "(15) money and currency usages, e.g., “$5” or “10 Euro”\n",
        "\n",
        "(16) percents and rates, e.g., “10%” or “50 bps”\n",
        "\n",
        "(17) PII, e.g., “212-212-2121” or “999-999-9999”\n",
        "\n",
        "(18) ratios, e.g.,” 3:1” or “four to three”\n",
        "\n",
        "(19) regulations, e.g., “32 CFR 170”\n",
        "\n",
        "(20) trademarks, e.g., “MyApp (TM)”\n",
        "\n",
        "(21) URLs, e.g., “http://acme.com/”\n",
        "\n",
        "(22) addresses, e.g., “1999 Mount Read Blvd, Rochester, NY, USA, 14615”\n",
        "\n",
        "(23) persons, e.g., “John Doe"
      ]
    },
    {
      "cell_type": "code",
      "metadata": {
        "id": "qc7NtJrLx5tS",
        "colab_type": "code",
        "outputId": "2a44bbb6-6215-4575-904a-813bb02ba581",
        "colab": {
          "base_uri": "https://localhost:8080/",
          "height": 1000
        }
      },
      "source": [
        "# write your code here\n",
        "pip install lexnlp"
      ],
      "execution_count": 0,
      "outputs": [
        {
          "output_type": "stream",
          "text": [
            "Collecting lexnlp\n",
            "\u001b[?25l  Downloading https://files.pythonhosted.org/packages/f3/69/754eae7606ed58f3d5e11f86c9ced6a0c99ecaab460e628af62d7e0e2202/lexnlp-1.4.0-py3-none-any.whl (9.7MB)\n",
            "\u001b[K     |████████████████████████████████| 9.7MB 2.8MB/s \n",
            "\u001b[?25hCollecting pandas==0.23.4\n",
            "\u001b[?25l  Downloading https://files.pythonhosted.org/packages/e1/d8/feeb346d41f181e83fba45224ab14a8d8af019b48af742e047f3845d8cff/pandas-0.23.4-cp36-cp36m-manylinux1_x86_64.whl (8.9MB)\n",
            "\u001b[K     |████████████████████████████████| 8.9MB 40.3MB/s \n",
            "\u001b[?25hCollecting scikit-learn==0.21.3\n",
            "\u001b[?25l  Downloading https://files.pythonhosted.org/packages/a0/c5/d2238762d780dde84a20b8c761f563fe882b88c5a5fb03c056547c442a19/scikit_learn-0.21.3-cp36-cp36m-manylinux1_x86_64.whl (6.7MB)\n",
            "\u001b[K     |████████████████████████████████| 6.7MB 50.2MB/s \n",
            "\u001b[?25hCollecting datefinder-lexpredict==0.6.2\n",
            "  Downloading https://files.pythonhosted.org/packages/27/47/9a38724045b30e2e4d1c5e3e08fd3b0770dedb2e9ca92c1347b9e2182470/datefinder_lexpredict-0.6.2-py2.py3-none-any.whl\n",
            "Collecting pycountry==18.5.26\n",
            "\u001b[?25l  Downloading https://files.pythonhosted.org/packages/c5/c0/8ce9d2b55347867900edbe4d18f790571130c16f882b4891a0f08627dcdc/pycountry-18.5.26-py2.py3-none-any.whl (10.3MB)\n",
            "\u001b[K     |████████████████████████████████| 10.3MB 183kB/s \n",
            "\u001b[?25hCollecting Unidecode==0.4.21\n",
            "\u001b[?25l  Downloading https://files.pythonhosted.org/packages/01/a1/9d7f3138ee3d79a1ab865a2cb38200ca778d85121db19fe264c76c981184/Unidecode-0.04.21-py2.py3-none-any.whl (228kB)\n",
            "\u001b[K     |████████████████████████████████| 235kB 40.8MB/s \n",
            "\u001b[?25hCollecting us==1.0.0\n",
            "  Downloading https://files.pythonhosted.org/packages/72/83/8731cbf5afcf3434c0b24cfc520c11fd27bfc8a6878114662f4e3dbdab71/us-1.0.0.tar.gz\n",
            "Collecting gensim==3.4.0\n",
            "\u001b[?25l  Downloading https://files.pythonhosted.org/packages/33/33/df6cb7acdcec5677ed130f4800f67509d24dbec74a03c329fcbf6b0864f0/gensim-3.4.0-cp36-cp36m-manylinux1_x86_64.whl (22.6MB)\n",
            "\u001b[K     |████████████████████████████████| 22.6MB 1.6MB/s \n",
            "\u001b[?25hCollecting regex==2017.9.23\n",
            "\u001b[?25l  Downloading https://files.pythonhosted.org/packages/d7/65/91b43adad1dc45d7374521422270490128a2f289e1c3e1036b231b521507/regex-2017.09.23.tar.gz (607kB)\n",
            "\u001b[K     |████████████████████████████████| 614kB 42.6MB/s \n",
            "\u001b[?25hCollecting nltk==3.4.5\n",
            "\u001b[?25l  Downloading https://files.pythonhosted.org/packages/f6/1d/d925cfb4f324ede997f6d47bea4d9babba51b49e87a767c170b77005889d/nltk-3.4.5.zip (1.5MB)\n",
            "\u001b[K     |████████████████████████████████| 1.5MB 48.7MB/s \n",
            "\u001b[?25hCollecting reporters-db==1.0.12.1\n",
            "\u001b[?25l  Downloading https://files.pythonhosted.org/packages/0d/6c/16c7c3849a25d2c3af5ef6e05d768d8e86e74aa9051df4728325c5f31f46/reporters_db-1.0.12.1-py2.py3-none-any.whl (60kB)\n",
            "\u001b[K     |████████████████████████████████| 61kB 8.4MB/s \n",
            "\u001b[?25hCollecting requests==2.22.0\n",
            "\u001b[?25l  Downloading https://files.pythonhosted.org/packages/51/bd/23c926cd341ea6b7dd0b2a00aba99ae0f828be89d72b2190f27c11d4b7fb/requests-2.22.0-py2.py3-none-any.whl (57kB)\n",
            "\u001b[K     |████████████████████████████████| 61kB 8.5MB/s \n",
            "\u001b[?25hCollecting typing==3.6.2\n",
            "  Downloading https://files.pythonhosted.org/packages/44/88/d09c6a7fe1af4a02f16d2f1766212bec752aadb04e5699a9706a10a1a37d/typing-3.6.2-py3-none-any.whl\n",
            "Collecting scipy==1.0.0\n",
            "\u001b[?25l  Downloading https://files.pythonhosted.org/packages/d8/5e/caa01ba7be11600b6a9d39265440d7b3be3d69206da887c42bef049521f2/scipy-1.0.0-cp36-cp36m-manylinux1_x86_64.whl (50.0MB)\n",
            "\u001b[K     |████████████████████████████████| 50.0MB 70kB/s \n",
            "\u001b[?25hCollecting dateparser==0.7.0\n",
            "\u001b[?25l  Downloading https://files.pythonhosted.org/packages/ac/9e/1aa87c0c59f9731820bfd20a8b148d97b315530c2c92d1fb300328c8c42f/dateparser-0.7.0-py2.py3-none-any.whl (357kB)\n",
            "\u001b[K     |████████████████████████████████| 358kB 42.8MB/s \n",
            "\u001b[?25hCollecting num2words==0.5.7\n",
            "\u001b[?25l  Downloading https://files.pythonhosted.org/packages/bc/9a/31a9151abd891ab7387d8d74cb0d84c4e77674735dbf85a63dfeb8eed6a6/num2words-0.5.7.tar.gz (94kB)\n",
            "\u001b[K     |████████████████████████████████| 102kB 12.8MB/s \n",
            "\u001b[?25hRequirement already satisfied: numpy>=1.9.0 in /usr/local/lib/python3.6/dist-packages (from pandas==0.23.4->lexnlp) (1.17.5)\n",
            "Requirement already satisfied: pytz>=2011k in /usr/local/lib/python3.6/dist-packages (from pandas==0.23.4->lexnlp) (2018.9)\n",
            "Requirement already satisfied: python-dateutil>=2.5.0 in /usr/local/lib/python3.6/dist-packages (from pandas==0.23.4->lexnlp) (2.6.1)\n",
            "Requirement already satisfied: joblib>=0.11 in /usr/local/lib/python3.6/dist-packages (from scikit-learn==0.21.3->lexnlp) (0.14.1)\n",
            "Collecting jellyfish==0.5.6\n",
            "\u001b[?25l  Downloading https://files.pythonhosted.org/packages/94/48/ddb1458d966f0a84e472d059d87a9d1527df7768a725132fc1d810728386/jellyfish-0.5.6.tar.gz (132kB)\n",
            "\u001b[K     |████████████████████████████████| 133kB 30.7MB/s \n",
            "\u001b[?25hRequirement already satisfied: smart-open>=1.2.1 in /usr/local/lib/python3.6/dist-packages (from gensim==3.4.0->lexnlp) (1.9.0)\n",
            "Requirement already satisfied: six>=1.5.0 in /usr/local/lib/python3.6/dist-packages (from gensim==3.4.0->lexnlp) (1.12.0)\n",
            "Requirement already satisfied: urllib3!=1.25.0,!=1.25.1,<1.26,>=1.21.1 in /usr/local/lib/python3.6/dist-packages (from requests==2.22.0->lexnlp) (1.24.3)\n",
            "Requirement already satisfied: chardet<3.1.0,>=3.0.2 in /usr/local/lib/python3.6/dist-packages (from requests==2.22.0->lexnlp) (3.0.4)\n",
            "Requirement already satisfied: certifi>=2017.4.17 in /usr/local/lib/python3.6/dist-packages (from requests==2.22.0->lexnlp) (2019.11.28)\n",
            "Requirement already satisfied: idna<2.9,>=2.5 in /usr/local/lib/python3.6/dist-packages (from requests==2.22.0->lexnlp) (2.8)\n",
            "Requirement already satisfied: tzlocal in /usr/local/lib/python3.6/dist-packages (from dateparser==0.7.0->lexnlp) (1.5.1)\n",
            "Requirement already satisfied: boto3 in /usr/local/lib/python3.6/dist-packages (from smart-open>=1.2.1->gensim==3.4.0->lexnlp) (1.11.15)\n",
            "Requirement already satisfied: boto>=2.32 in /usr/local/lib/python3.6/dist-packages (from smart-open>=1.2.1->gensim==3.4.0->lexnlp) (2.49.0)\n",
            "Requirement already satisfied: botocore<1.15.0,>=1.14.15 in /usr/local/lib/python3.6/dist-packages (from boto3->smart-open>=1.2.1->gensim==3.4.0->lexnlp) (1.14.15)\n",
            "Requirement already satisfied: s3transfer<0.4.0,>=0.3.0 in /usr/local/lib/python3.6/dist-packages (from boto3->smart-open>=1.2.1->gensim==3.4.0->lexnlp) (0.3.3)\n",
            "Requirement already satisfied: jmespath<1.0.0,>=0.7.1 in /usr/local/lib/python3.6/dist-packages (from boto3->smart-open>=1.2.1->gensim==3.4.0->lexnlp) (0.9.4)\n",
            "Requirement already satisfied: docutils<0.16,>=0.10 in /usr/local/lib/python3.6/dist-packages (from botocore<1.15.0,>=1.14.15->boto3->smart-open>=1.2.1->gensim==3.4.0->lexnlp) (0.15.2)\n",
            "Building wheels for collected packages: us, regex, nltk, num2words, jellyfish\n",
            "  Building wheel for us (setup.py) ... \u001b[?25l\u001b[?25hdone\n",
            "  Created wheel for us: filename=us-1.0.0-cp36-none-any.whl size=11833 sha256=d6a6f45a97fc6e375b3c016c36588eef560d8b45a28f03211343f10d9e782018\n",
            "  Stored in directory: /root/.cache/pip/wheels/b3/98/40/cb8be35d7779a0ae4372c84e7a585c947bfc41540fd8999e53\n",
            "  Building wheel for regex (setup.py) ... \u001b[?25l\u001b[?25hdone\n",
            "  Created wheel for regex: filename=regex-2017.9.23-cp36-cp36m-linux_x86_64.whl size=538786 sha256=399cfac0f1a927cb3c5b2305cb14f57990829e81f8c44df7d4fca18b1a88618c\n",
            "  Stored in directory: /root/.cache/pip/wheels/57/19/41/e7d239b4a53386fe9de49f9e4328799569bbeac8b8b3748876\n",
            "  Building wheel for nltk (setup.py) ... \u001b[?25l\u001b[?25hdone\n",
            "  Created wheel for nltk: filename=nltk-3.4.5-cp36-none-any.whl size=1449908 sha256=c0876180b236e88bffd134356d19a60dce5b377f2296e1faa069ad3e625839c0\n",
            "  Stored in directory: /root/.cache/pip/wheels/96/86/f6/68ab24c23f207c0077381a5e3904b2815136b879538a24b483\n",
            "  Building wheel for num2words (setup.py) ... \u001b[?25l\u001b[?25hdone\n",
            "  Created wheel for num2words: filename=num2words-0.5.7-cp36-none-any.whl size=84777 sha256=ff5dc2dc8229e33fcdf2b2718a3f605c52f5ffec7143cf177183caf206b3b778\n",
            "  Stored in directory: /root/.cache/pip/wheels/e5/f6/a1/78cb080e8529bfa0c6ee2461563a4ff96efc0b6fe89cb31457\n",
            "  Building wheel for jellyfish (setup.py) ... \u001b[?25l\u001b[?25hdone\n",
            "  Created wheel for jellyfish: filename=jellyfish-0.5.6-cp36-cp36m-linux_x86_64.whl size=74528 sha256=52fd85cc5735d96a6d60b21210ea5fbc0e012ce8fd89c4f92fcceb3bc5c1f1bd\n",
            "  Stored in directory: /root/.cache/pip/wheels/3b/29/06/8d686d24f742cb89e7bde7f26f18cb9e89b3c8bcd6999cb12a\n",
            "Successfully built us regex nltk num2words jellyfish\n",
            "\u001b[31mERROR: xarray 0.14.1 has requirement pandas>=0.24, but you'll have pandas 0.23.4 which is incompatible.\u001b[0m\n",
            "\u001b[31mERROR: seaborn 0.10.0 has requirement scipy>=1.0.1, but you'll have scipy 1.0.0 which is incompatible.\u001b[0m\n",
            "\u001b[31mERROR: plotnine 0.6.0 has requirement pandas>=0.25.0, but you'll have pandas 0.23.4 which is incompatible.\u001b[0m\n",
            "\u001b[31mERROR: plotnine 0.6.0 has requirement scipy>=1.2.0, but you'll have scipy 1.0.0 which is incompatible.\u001b[0m\n",
            "\u001b[31mERROR: mizani 0.6.0 has requirement pandas>=0.25.0, but you'll have pandas 0.23.4 which is incompatible.\u001b[0m\n",
            "\u001b[31mERROR: google-colab 1.0.0 has requirement pandas~=0.25.0; python_version >= \"3.0\", but you'll have pandas 0.23.4 which is incompatible.\u001b[0m\n",
            "\u001b[31mERROR: google-colab 1.0.0 has requirement requests~=2.21.0, but you'll have requests 2.22.0 which is incompatible.\u001b[0m\n",
            "\u001b[31mERROR: datascience 0.10.6 has requirement folium==0.2.1, but you'll have folium 0.8.3 which is incompatible.\u001b[0m\n",
            "\u001b[31mERROR: cvxpy 1.0.25 has requirement scipy>=1.1.0, but you'll have scipy 1.0.0 which is incompatible.\u001b[0m\n",
            "\u001b[31mERROR: albumentations 0.1.12 has requirement imgaug<0.2.7,>=0.2.5, but you'll have imgaug 0.2.9 which is incompatible.\u001b[0m\n",
            "Installing collected packages: pandas, scipy, scikit-learn, regex, datefinder-lexpredict, pycountry, Unidecode, jellyfish, us, gensim, nltk, reporters-db, requests, typing, dateparser, num2words, lexnlp\n",
            "  Found existing installation: pandas 0.25.3\n",
            "    Uninstalling pandas-0.25.3:\n",
            "      Successfully uninstalled pandas-0.25.3\n",
            "  Found existing installation: scipy 1.4.1\n",
            "    Uninstalling scipy-1.4.1:\n",
            "      Successfully uninstalled scipy-1.4.1\n",
            "  Found existing installation: scikit-learn 0.22.1\n",
            "    Uninstalling scikit-learn-0.22.1:\n",
            "      Successfully uninstalled scikit-learn-0.22.1\n",
            "  Found existing installation: regex 2019.12.20\n",
            "    Uninstalling regex-2019.12.20:\n",
            "      Successfully uninstalled regex-2019.12.20\n",
            "  Found existing installation: gensim 3.6.0\n",
            "    Uninstalling gensim-3.6.0:\n",
            "      Successfully uninstalled gensim-3.6.0\n",
            "  Found existing installation: nltk 3.2.5\n",
            "    Uninstalling nltk-3.2.5:\n",
            "      Successfully uninstalled nltk-3.2.5\n",
            "  Found existing installation: requests 2.21.0\n",
            "    Uninstalling requests-2.21.0:\n",
            "      Successfully uninstalled requests-2.21.0\n",
            "  Found existing installation: typing 3.6.6\n",
            "    Uninstalling typing-3.6.6:\n",
            "      Successfully uninstalled typing-3.6.6\n",
            "Successfully installed Unidecode-0.4.21 datefinder-lexpredict-0.6.2 dateparser-0.7.0 gensim-3.4.0 jellyfish-0.5.6 lexnlp-1.4.0 nltk-3.4.5 num2words-0.5.7 pandas-0.23.4 pycountry-18.5.26 regex-2017.9.23 reporters-db-1.0.12.1 requests-2.22.0 scikit-learn-0.21.3 scipy-1.0.0 typing-3.6.2 us-1.0.0\n"
          ],
          "name": "stdout"
        },
        {
          "output_type": "display_data",
          "data": {
            "application/vnd.colab-display-data+json": {
              "pip_warning": {
                "packages": [
                  "pandas",
                  "requests",
                  "typing"
                ]
              }
            }
          },
          "metadata": {
            "tags": []
          }
        }
      ]
    },
    {
      "cell_type": "code",
      "metadata": {
        "id": "puFyxCLKxaiI",
        "colab_type": "code",
        "outputId": "cd290126-8196-4a57-a71e-03ca2cead5e9",
        "colab": {
          "base_uri": "https://localhost:8080/",
          "height": 1000
        }
      },
      "source": [
        "import nltk\n",
        "nltk.download()"
      ],
      "execution_count": 0,
      "outputs": [
        {
          "output_type": "stream",
          "text": [
            "NLTK Downloader\n",
            "---------------------------------------------------------------------------\n",
            "    d) Download   l) List    u) Update   c) Config   h) Help   q) Quit\n",
            "---------------------------------------------------------------------------\n",
            "Downloader> d\n",
            "\n",
            "Download which package (l=list; x=cancel)?\n",
            "  Identifier> all\n",
            "    Downloading collection 'all'\n",
            "       | \n",
            "       | Downloading package abc to /root/nltk_data...\n",
            "       |   Unzipping corpora/abc.zip.\n",
            "       | Downloading package alpino to /root/nltk_data...\n",
            "       |   Unzipping corpora/alpino.zip.\n",
            "       | Downloading package biocreative_ppi to /root/nltk_data...\n",
            "       |   Unzipping corpora/biocreative_ppi.zip.\n",
            "       | Downloading package brown to /root/nltk_data...\n",
            "       |   Unzipping corpora/brown.zip.\n",
            "       | Downloading package brown_tei to /root/nltk_data...\n",
            "       |   Unzipping corpora/brown_tei.zip.\n",
            "       | Downloading package cess_cat to /root/nltk_data...\n",
            "       |   Unzipping corpora/cess_cat.zip.\n",
            "       | Downloading package cess_esp to /root/nltk_data...\n",
            "       |   Unzipping corpora/cess_esp.zip.\n",
            "       | Downloading package chat80 to /root/nltk_data...\n",
            "       |   Unzipping corpora/chat80.zip.\n",
            "       | Downloading package city_database to /root/nltk_data...\n",
            "       |   Unzipping corpora/city_database.zip.\n",
            "       | Downloading package cmudict to /root/nltk_data...\n",
            "       |   Unzipping corpora/cmudict.zip.\n",
            "       | Downloading package comparative_sentences to\n",
            "       |     /root/nltk_data...\n",
            "       |   Unzipping corpora/comparative_sentences.zip.\n",
            "       | Downloading package comtrans to /root/nltk_data...\n",
            "       | Downloading package conll2000 to /root/nltk_data...\n",
            "       |   Unzipping corpora/conll2000.zip.\n",
            "       | Downloading package conll2002 to /root/nltk_data...\n",
            "       |   Unzipping corpora/conll2002.zip.\n",
            "       | Downloading package conll2007 to /root/nltk_data...\n",
            "       | Downloading package crubadan to /root/nltk_data...\n",
            "       |   Unzipping corpora/crubadan.zip.\n",
            "       | Downloading package dependency_treebank to /root/nltk_data...\n",
            "       |   Unzipping corpora/dependency_treebank.zip.\n",
            "       | Downloading package dolch to /root/nltk_data...\n",
            "       |   Unzipping corpora/dolch.zip.\n",
            "       | Downloading package europarl_raw to /root/nltk_data...\n",
            "       |   Unzipping corpora/europarl_raw.zip.\n",
            "       | Downloading package floresta to /root/nltk_data...\n",
            "       |   Unzipping corpora/floresta.zip.\n",
            "       | Downloading package framenet_v15 to /root/nltk_data...\n",
            "       |   Unzipping corpora/framenet_v15.zip.\n",
            "       | Downloading package framenet_v17 to /root/nltk_data...\n",
            "       |   Unzipping corpora/framenet_v17.zip.\n",
            "       | Downloading package gazetteers to /root/nltk_data...\n",
            "       |   Unzipping corpora/gazetteers.zip.\n",
            "       | Downloading package genesis to /root/nltk_data...\n",
            "       |   Unzipping corpora/genesis.zip.\n",
            "       | Downloading package gutenberg to /root/nltk_data...\n",
            "       |   Unzipping corpora/gutenberg.zip.\n",
            "       | Downloading package ieer to /root/nltk_data...\n",
            "       |   Unzipping corpora/ieer.zip.\n",
            "       | Downloading package inaugural to /root/nltk_data...\n",
            "       |   Unzipping corpora/inaugural.zip.\n",
            "       | Downloading package indian to /root/nltk_data...\n",
            "       |   Unzipping corpora/indian.zip.\n",
            "       | Downloading package jeita to /root/nltk_data...\n",
            "       | Downloading package kimmo to /root/nltk_data...\n",
            "       |   Unzipping corpora/kimmo.zip.\n",
            "       | Downloading package knbc to /root/nltk_data...\n",
            "       | Downloading package lin_thesaurus to /root/nltk_data...\n",
            "       |   Unzipping corpora/lin_thesaurus.zip.\n",
            "       | Downloading package mac_morpho to /root/nltk_data...\n",
            "       |   Unzipping corpora/mac_morpho.zip.\n",
            "       | Downloading package machado to /root/nltk_data...\n",
            "       | Downloading package masc_tagged to /root/nltk_data...\n",
            "       | Downloading package moses_sample to /root/nltk_data...\n",
            "       |   Unzipping models/moses_sample.zip.\n",
            "       | Downloading package movie_reviews to /root/nltk_data...\n",
            "       |   Unzipping corpora/movie_reviews.zip.\n",
            "       | Downloading package names to /root/nltk_data...\n",
            "       |   Unzipping corpora/names.zip.\n",
            "       | Downloading package nombank.1.0 to /root/nltk_data...\n",
            "       | Downloading package nps_chat to /root/nltk_data...\n",
            "       |   Unzipping corpora/nps_chat.zip.\n",
            "       | Downloading package omw to /root/nltk_data...\n",
            "       |   Unzipping corpora/omw.zip.\n",
            "       | Downloading package opinion_lexicon to /root/nltk_data...\n",
            "       |   Unzipping corpora/opinion_lexicon.zip.\n",
            "       | Downloading package paradigms to /root/nltk_data...\n",
            "       |   Unzipping corpora/paradigms.zip.\n",
            "       | Downloading package pil to /root/nltk_data...\n",
            "       |   Unzipping corpora/pil.zip.\n",
            "       | Downloading package pl196x to /root/nltk_data...\n",
            "       |   Unzipping corpora/pl196x.zip.\n",
            "       | Downloading package ppattach to /root/nltk_data...\n",
            "       |   Unzipping corpora/ppattach.zip.\n",
            "       | Downloading package problem_reports to /root/nltk_data...\n",
            "       |   Unzipping corpora/problem_reports.zip.\n",
            "       | Downloading package propbank to /root/nltk_data...\n",
            "       | Downloading package ptb to /root/nltk_data...\n",
            "       |   Unzipping corpora/ptb.zip.\n",
            "       | Downloading package product_reviews_1 to /root/nltk_data...\n",
            "       |   Unzipping corpora/product_reviews_1.zip.\n",
            "       | Downloading package product_reviews_2 to /root/nltk_data...\n",
            "       |   Unzipping corpora/product_reviews_2.zip.\n",
            "       | Downloading package pros_cons to /root/nltk_data...\n",
            "       |   Unzipping corpora/pros_cons.zip.\n",
            "       | Downloading package qc to /root/nltk_data...\n",
            "       |   Unzipping corpora/qc.zip.\n",
            "       | Downloading package reuters to /root/nltk_data...\n",
            "       | Downloading package rte to /root/nltk_data...\n",
            "       |   Unzipping corpora/rte.zip.\n",
            "       | Downloading package semcor to /root/nltk_data...\n",
            "       | Downloading package senseval to /root/nltk_data...\n",
            "       |   Unzipping corpora/senseval.zip.\n",
            "       | Downloading package sentiwordnet to /root/nltk_data...\n",
            "       |   Unzipping corpora/sentiwordnet.zip.\n",
            "       | Downloading package sentence_polarity to /root/nltk_data...\n",
            "       |   Unzipping corpora/sentence_polarity.zip.\n",
            "       | Downloading package shakespeare to /root/nltk_data...\n",
            "       |   Unzipping corpora/shakespeare.zip.\n",
            "       | Downloading package sinica_treebank to /root/nltk_data...\n",
            "       |   Unzipping corpora/sinica_treebank.zip.\n",
            "       | Downloading package smultron to /root/nltk_data...\n",
            "       |   Unzipping corpora/smultron.zip.\n",
            "       | Downloading package state_union to /root/nltk_data...\n",
            "       |   Unzipping corpora/state_union.zip.\n",
            "       | Downloading package stopwords to /root/nltk_data...\n",
            "       |   Unzipping corpora/stopwords.zip.\n",
            "       | Downloading package subjectivity to /root/nltk_data...\n",
            "       |   Unzipping corpora/subjectivity.zip.\n",
            "       | Downloading package swadesh to /root/nltk_data...\n",
            "       |   Unzipping corpora/swadesh.zip.\n",
            "       | Downloading package switchboard to /root/nltk_data...\n",
            "       |   Unzipping corpora/switchboard.zip.\n",
            "       | Downloading package timit to /root/nltk_data...\n",
            "       |   Unzipping corpora/timit.zip.\n",
            "       | Downloading package toolbox to /root/nltk_data...\n",
            "       |   Unzipping corpora/toolbox.zip.\n",
            "       | Downloading package treebank to /root/nltk_data...\n",
            "       |   Unzipping corpora/treebank.zip.\n",
            "       | Downloading package twitter_samples to /root/nltk_data...\n",
            "       |   Unzipping corpora/twitter_samples.zip.\n",
            "       | Downloading package udhr to /root/nltk_data...\n",
            "       |   Unzipping corpora/udhr.zip.\n",
            "       | Downloading package udhr2 to /root/nltk_data...\n",
            "       |   Unzipping corpora/udhr2.zip.\n",
            "       | Downloading package unicode_samples to /root/nltk_data...\n",
            "       |   Unzipping corpora/unicode_samples.zip.\n",
            "       | Downloading package universal_treebanks_v20 to\n",
            "       |     /root/nltk_data...\n",
            "       | Downloading package verbnet to /root/nltk_data...\n",
            "       |   Unzipping corpora/verbnet.zip.\n",
            "       | Downloading package verbnet3 to /root/nltk_data...\n",
            "       |   Unzipping corpora/verbnet3.zip.\n",
            "       | Downloading package webtext to /root/nltk_data...\n",
            "       |   Unzipping corpora/webtext.zip.\n",
            "       | Downloading package wordnet to /root/nltk_data...\n",
            "       |   Unzipping corpora/wordnet.zip.\n",
            "       | Downloading package wordnet_ic to /root/nltk_data...\n",
            "       |   Unzipping corpora/wordnet_ic.zip.\n",
            "       | Downloading package words to /root/nltk_data...\n",
            "       |   Unzipping corpora/words.zip.\n",
            "       | Downloading package ycoe to /root/nltk_data...\n",
            "       |   Unzipping corpora/ycoe.zip.\n",
            "       | Downloading package rslp to /root/nltk_data...\n",
            "       |   Unzipping stemmers/rslp.zip.\n",
            "       | Downloading package maxent_treebank_pos_tagger to\n",
            "       |     /root/nltk_data...\n",
            "       |   Unzipping taggers/maxent_treebank_pos_tagger.zip.\n",
            "       | Downloading package universal_tagset to /root/nltk_data...\n",
            "       |   Unzipping taggers/universal_tagset.zip.\n",
            "       | Downloading package maxent_ne_chunker to /root/nltk_data...\n",
            "       |   Unzipping chunkers/maxent_ne_chunker.zip.\n",
            "       | Downloading package punkt to /root/nltk_data...\n",
            "       |   Unzipping tokenizers/punkt.zip.\n",
            "       | Downloading package book_grammars to /root/nltk_data...\n",
            "       |   Unzipping grammars/book_grammars.zip.\n",
            "       | Downloading package sample_grammars to /root/nltk_data...\n",
            "       |   Unzipping grammars/sample_grammars.zip.\n",
            "       | Downloading package spanish_grammars to /root/nltk_data...\n",
            "       |   Unzipping grammars/spanish_grammars.zip.\n",
            "       | Downloading package basque_grammars to /root/nltk_data...\n",
            "       |   Unzipping grammars/basque_grammars.zip.\n",
            "       | Downloading package large_grammars to /root/nltk_data...\n",
            "       |   Unzipping grammars/large_grammars.zip.\n",
            "       | Downloading package tagsets to /root/nltk_data...\n",
            "       |   Unzipping help/tagsets.zip.\n",
            "       | Downloading package snowball_data to /root/nltk_data...\n",
            "       | Downloading package bllip_wsj_no_aux to /root/nltk_data...\n",
            "       |   Unzipping models/bllip_wsj_no_aux.zip.\n",
            "       | Downloading package word2vec_sample to /root/nltk_data...\n",
            "       |   Unzipping models/word2vec_sample.zip.\n",
            "       | Downloading package panlex_swadesh to /root/nltk_data...\n",
            "       | Downloading package mte_teip5 to /root/nltk_data...\n",
            "       |   Unzipping corpora/mte_teip5.zip.\n",
            "       | Downloading package averaged_perceptron_tagger to\n",
            "       |     /root/nltk_data...\n",
            "       |   Unzipping taggers/averaged_perceptron_tagger.zip.\n",
            "       | Downloading package averaged_perceptron_tagger_ru to\n",
            "       |     /root/nltk_data...\n",
            "       |   Unzipping taggers/averaged_perceptron_tagger_ru.zip.\n",
            "       | Downloading package perluniprops to /root/nltk_data...\n",
            "       |   Unzipping misc/perluniprops.zip.\n",
            "       | Downloading package nonbreaking_prefixes to\n",
            "       |     /root/nltk_data...\n",
            "       |   Unzipping corpora/nonbreaking_prefixes.zip.\n",
            "       | Downloading package vader_lexicon to /root/nltk_data...\n",
            "       | Downloading package porter_test to /root/nltk_data...\n",
            "       |   Unzipping stemmers/porter_test.zip.\n",
            "       | Downloading package wmt15_eval to /root/nltk_data...\n",
            "       |   Unzipping models/wmt15_eval.zip.\n",
            "       | Downloading package mwa_ppdb to /root/nltk_data...\n",
            "       |   Unzipping misc/mwa_ppdb.zip.\n",
            "       | \n",
            "     Done downloading collection all\n",
            "\n",
            "---------------------------------------------------------------------------\n",
            "    d) Download   l) List    u) Update   c) Config   h) Help   q) Quit\n",
            "---------------------------------------------------------------------------\n",
            "Downloader> q\n"
          ],
          "name": "stdout"
        },
        {
          "output_type": "execute_result",
          "data": {
            "text/plain": [
              "True"
            ]
          },
          "metadata": {
            "tags": []
          },
          "execution_count": 14
        }
      ]
    },
    {
      "cell_type": "code",
      "metadata": {
        "id": "V8oj8HMNyV08",
        "colab_type": "code",
        "outputId": "0b73545e-215c-4db1-b4de-a19546efbda6",
        "colab": {
          "base_uri": "https://localhost:8080/",
          "height": 546
        }
      },
      "source": [
        "import lexnlp\n",
        "import spacy        \n",
        "import string\n",
        "import pandas\n",
        "f = open(\"data.txt\", \"r\")\n",
        "data=f.read()\n",
        "f=data.translate(str.maketrans('', '', string.punctuation))\n",
        "cleaned=f.replace('\\n',' ')\n",
        "if not list(lexnlp.extract.en.acts.get_act_list(cleaned)):\n",
        "  print('1.Acts->None')\n",
        "else:\n",
        "  print('1.Acts->',list(lexnlp.extract.en.acts.get_act_list(cleaned)))\n",
        "print('2.Amounts->',list(lexnlp.extract.en.amounts.get_amounts(cleaned)))\n",
        "print('3.Citations->',list(lexnlp.extract.en.citations.get_citations(cleaned)))\n",
        "print('4.Companies',list(lexnlp.extract.en.entities.nltk_re.get_companies(cleaned)))\n",
        "print('5.Conditions->',list(lexnlp.extract.en.conditions.get_conditions(cleaned)))\n",
        "print('6.Constraints->',list(lexnlp.extract.en.constraints.get_constraints(cleaned)))\n",
        "print('7.Copy right->',list(lexnlp.extract.en.copyright.get_copyright(cleaned)))\n",
        "court_df = pandas.read_csv(\"https://raw.githubusercontent.com/LexPredict/lexpredict-legal-dictionary/1.0.5/en/legal/us_courts.csv\")\n",
        "court_config_data = []\n",
        "for _, row in court_df.iterrows():\n",
        "  c = lexnlp.extract.en.dict_entities.entity_config(row[\"Court ID\"], row[\"Court Name\"], 0, row[\"Alias\"].split(\";\") if not pandas.isnull(row[\"Alias\"]) else [])\n",
        "  court_config_data.append(c)\n",
        "for entity, alias in lexnlp.extract.en.courts.get_courts(cleaned, court_config_data):\n",
        "  print('8.courts->')\n",
        "  print(\"entity=\", entity)\n",
        "  print(\"alias=\", alias)\n",
        "if not list(lexnlp.extract.en.cusip.get_cusip(cleaned)):\n",
        "  print('9.Cusip->None')\n",
        "else:\n",
        "  print('9.Cusip->',print(list(lexnlp.extract.en.cusip.get_cusip(cleaned))))\n",
        "print('10.Dates->',list(lexnlp.extract.en.dates.get_dates(cleaned)))\n",
        "\n",
        "if not list(lexnlp.extract.en.definitions.get_definitions(cleaned)):\n",
        "  print('11.Definitions->None')\n",
        "else:\n",
        "  print('11.Definitions->',print(list(lexnlp.extract.en.definitions.get_definitions(cleaned))))\n",
        "if not list(lexnlp.extract.en.distances.get_distances(cleaned)):\n",
        "  print('12.Distances->None')\n",
        "else:\n",
        "  print('12.Distances->',print(list(lexnlp.extract.en.distances.get_distances(cleaned))))\n",
        "print('13.Durations->',list(lexnlp.extract.en.durations.get_durations(cleaned)))\n",
        "geo_df = pandas.read_csv(\"https://raw.githubusercontent.com/LexPredict/lexpredict-lexnlp/master/test_data/lexnlp/extract/en/tests/test_geoentities/geoentities.csv\")\n",
        "geo_config_data = []\n",
        "for _, row in geo_df.iterrows():\n",
        "  c = lexnlp.extract.en.dict_entities.entity_config(row[\"entity_id\"], row[\"name\"],row[\"category\"])\n",
        "  geo_config_data.append(c)\n",
        "print('14.geographic and geopolitical entities->')\n",
        "for entity, alias in lexnlp.extract.en.geoentities.get_geoentities(cleaned,geo_config_data):\n",
        "  #print('8.geo->')\n",
        "  print(\"entity=\", entity)\n",
        "  print(\"alias=\", alias)\n",
        "print('15.Money and currency usages->',list(lexnlp.extract.en.money.get_money(cleaned)))\n",
        "if not list(lexnlp.extract.en.percents.get_percents(cleaned)):\n",
        "  print('16.Percents->None')\n",
        "else:\n",
        "  print('16.Percents->',print(list(lexnlp.extract.en.percents.get_percents(cleaned))))\n",
        "if not list(lexnlp.extract.en.pii.get_pii(cleaned)):\n",
        "  print('17.PII->None')\n",
        "else:\n",
        "  print('17.PII->',print(list(lexnlp.extract.en.pii.get_pii(cleaned))))\n",
        "if not list(lexnlp.extract.en.ratios.get_ratios(cleaned)):\n",
        "  print('18.Ratios->None')\n",
        "else:\n",
        "  print('18.Ratios->',print(list(lexnlp.extract.en.ratios.get_ratios(cleaned))))\n",
        "if not list(lexnlp.extract.en.regulations.get_regulations(cleaned)):\n",
        "  print('19.Regulations->None')\n",
        "else:\n",
        "  print('19.Regulations->',print(list(lexnlp.extract.en.regulations.get_regulations(cleaned))))\n",
        "if not list(lexnlp.extract.en.trademarks.get_trademarks(cleaned)):\n",
        "  print('20.Trademarks->None')\n",
        "else:\n",
        "  print('20.Trademarks->',print(list(lexnlp.extract.en.trademarks.get_trademarks(cleaned))))\n",
        "if not list(lexnlp.extract.en.urls.get_urls(cleaned)):\n",
        "  print('21.URL->None')\n",
        "else:\n",
        "  print('21.URL->',print(list(lexnlp.extract.en.urls.get_urls(cleaned))))"
      ],
      "execution_count": 0,
      "outputs": [
        {
          "output_type": "stream",
          "text": [
            "1.Acts->None\n",
            "2.Amounts-> [5.0, 740.0, 1843.0, 2.0, 1.0, 4.0, 2.0, 5.0, 1.0, 1840.0, 80100.0, 30, 1839.0, 741.0, 1840.0, 14000, 120, 1, 1840.0, 3, 4, 1, 1840.0, 2.0, 1.0, 361.0, 1.0, 307.0, 6.0, 604.0, 1.0, 2.0, 418.0, 422.0, 7.0, 34.0, 41.0, 167.0, 742.0, 3.0, 112.0, 207.0, 3.0, 338.0, 424.0, 5.0, 26.0, 13.0, 235.0, 8.0, 693.0, 4.0, 1821.0, 167.0, 2.0, 2.0, 216.0, 3.0, 66.0, 4.0, 130.0, 29.0, 2.0, 2412.0, 332.0, 2.0, 422.0, 9.0, 112.0, 743.0, 9.0, 39.0, 14000, 1840.0, 744.0, 5.0, 182.0, 3.0, 368.0, 1.0, 397.0, 6.0, 604.0, 1, 1821.0, 167.0, 745.0, 4.0, 746.0, 4.0, 210.0, 46.0, 747.0, 5.0, 5.0, 740.0, 1843.0, 284.0, 2019.0, 9.0, 1.0, 55.0, 266.0, 271.0, 1876.0, 2.0, 47.0, 362.0, 376.0, 1872.0, 3.0, 45.0, 329.0, 334.0, 1871.0, 4.0, 31.0, 526.0, 527.0, 1858.0, 5.0, 21.0, 333.0, 335.0, 1852.0, 6.0, 8.0, 145.0, 147.0, 1857.0, 7.0, 65.0, 256.0, 258.0, 3, 1880.0, 8.0, 4.0, 913.0, 914.0, 1887.0, 9.0, 103.0, 464.0, 1936.0, 3.0, 1.0, 9.0, 39.0, 1828.0, 2.0, 2.0, 5.0, 182.0, 1837.0, 2.0, 3.0, 9.0, 108.0, 1812.0, 6, 1, 2.0]\n",
            "3.Citations-> [(1843, 'WL', 'West Law Citation', 284, None, None, None)]\n",
            "4.Companies [Lehman Durr Co, (17367, 17383)]\n",
            "5.Conditions-> [('until', '5 Ala 740 Supreme Court of Alabama ADAMS v TANNER AND HORTON June Term 1843 Synopsis WRIT of Error to the Circuit Court of Sumter     West Headnotes 2   1 Chattel Mortgages Crops A growing crop has such an existence as to be the subjectmatter of a mortgage or other contract which passes an interest to vest in possession either immediately or at a future time 4 Cases that cite this headnote  2 Creditors’ Remedies Lien and Priority Under St1821 prohibiting a levy on a crop', ''), ('until', 'it has been gathered no lien attaches in favor of a fi fa on a growing crop nor does such lien attach', ''), ('if', 'after the crop has been gathered 5 Cases that cite this headnote  1 This was a trial of the right of property under the statute In November 1840 an execution issued from the circuit court of Sumter at the suit of the plaintiff in error requiring the sheriff of that county to make of the goods c of Allen Harrison and others the sum of thirtyseven hundred and seventyseven 80100 dollars besides costs This execution was levied on thirty bales of cotton as the property of Allen Harrison which was claimed and a bond given to try the right An issue was made up to try the question of the liability of the cotton to the plaintiff’s execution and submitted to a jury On the trial a bill of exceptions was sealed at the instance of the plaintiff The plaintiff proved that he recovered his judgment in October 1839 that an execution 741 was issued thereon on the 7th Nov thereafter and that alias and pluries fieri facias’ issued regularly up to the time levy was made that the cotton levied on was growed on the plantation of Harrison and cultivated by the hands in his service It was proved by the claimants by the production of a written contract that Harrison on the twentysecond of May 1840 in consideration that the claimants were involved as indorsers for Burton  Harrison of Sumter county and were then exposed to an execution amounting to upwards of fourteen thousand dollars bargained and sold to the claimants all his growing crop of cotton c consisting of one hundred and twenty acres c Allen Harrison promised and obliged himself to give up his crop to the use of the claimants at any time to save them from suffering as his indorsers', ''), ('where', 'the crop matured and was gathered he undertook to deliver the cotton in Gainesville The claimants came from Tennessee', ''), ('when', 'they resided about the first of September 1840 bringing with them three or four white laborers and took possession of the crop and slaves and with the latter and white laborers gathered the cotton prepared it for market and', ''), ('if', 'levied on it was in a warehouse in Gainesville The plaintiff then proved by Harrison that the claimants took possession of the crop while he was absent and disposed of it without his consent It was admitted that the contract was made in good faith The court charged the jury that the plaintiff had no lien by virtue of his judgment and execution on the growing crop that Harrison had a right to convey it without being in any manner restrained by them that the writing adduced was a sale of the crop but', ''), ('when', 'it was not and the lien of the fieri facias would have attached upon it', ''), ('if', 'gathered yet', ''), ('not subject to', 'the claimants obtained possession on the first of September and controlled the gathering of the crop then no lien attached and it was', ''), ('until', 'the levy Attorneys and Law Firms R H SMITH for the plaintiff in error made the following points1 The crop of Harrison must in May 1840 have been in an immature state and it is insisted was not the subject of a sale 2 By the common law a growing crop could be levied on and sold 1 Salk Rep 361 1 Bos  P Rep 307 6 East’s Rep 604 note 1 2 Johns Rep 418 422 7 Mass Rep 34 and our statue Aik Dig § 41 p 167 which forbids the levy of an 742 execution on a growing crop is to receive a strict construction It merely inhibits the levy but the lien attaches and a levy and sale may be made after the crop matures and is gathered 3 The contract does not purport to convey the growing crop but is a mere executory agreement requiring some act to be done by Harrison in order to invest the claimants with the right of property Chit on Con 112 207 3 Johns Rep 338 424 5 Wend Rep 26 13 Johns Rep 235 8 Dowl Rep 693 and', ''), ('until', 'this act was done the crop no matter by who gathered because liable to be seized for Harrison’s debts A court of chancery would not compel a specific performance of the contract at the claimant’s instance 4 The charge of the court is also objectionable in deciding disputed facts W M MURPHY with whom was W G JONES for the defendantcited the act of 1821 Aik Dig 167 which declares it to be lawful to levy an execution on a planted crop', ''), ('if', 'it is gathered and contended that no lien attached in favor of the plaintiff This being the case the defendant in execution was not restrained from making the contract which he did with the claimants 2 The lien of an execution is destroyed by an injunction because it takes away the right to levy it In short whenever the right to levy an execution is but temporarily suspended or withdrawn the lien is during that time lost Whipple v Foot 2 Johns Rep 216 3 Wash C C Rep 66 4 How Rep 130 It is admitted that the contract between the defendant in execution and the claimants was in good faith', ''), ('when', 'so the severance and removal of the cotton gave the latter a good title against all creditors of the former Opinion  COLLIER C J  There can be no doubt that a growing crop has such an existence as to be the subject matter of a sale mortgage or other contract which possess an interest to vest in possession either immediately or at some future time This proposition has frequently been assumed as unquestionable the point of inquiry generally being whether under a statute of frauds such as the 29 Chas 2 it is a mere chattel and transferrable by parol without writing Chitty on Con 2412 332 Whipple v Foot 2 Johns Rep 422 Stewart v Doughty 9 Johns Rep 112 743 Austin v Sawyer 9 Cow Rep 39 See also Ravesies v Lee  Alston at last term The contract set out in the bill of exceptions we are inclined to think evidences rather a mortgage than an absolute sale It recites that the claimants are involved as indorsers of a mercantile firm of which the defendant was a partner that an execution for upwards of fourteen thousand dollars against their estate is in the sheriff’s hands and that a conveyance is made of the crop of cotton corn and oats which the grantor agrees to give up at any time to the use of the claimants so as to prevent injury to them as indorsers The defendant in execution might at any time have divested the interest which the contract vested in the claimants by discharging their liability as his indorsers or a judgment creditor might have satisfied the lien and', ''), ('unless', 'the crop was gathered have levied on and sold it under a fieri facias We will then consider the writing under which the claimants assert a right as a mortgage with a power to take possession any time during the year', ''), ('if', 'they should be relieved from their engagements as indorsers It is not pretended that their liability has been satisfied and it is admitted that the parties have acted with good faith so that it is a dry question of law whether the right of the plaintiff or the claimants shall prevail Assuming for the present that the execution of the plaintiffs did not operate a lien upon the planted crop previous to the contract of May 1840 we will inquire whether the defendant in execution had such an interest as could be levied on and sold The claimants had previous to the levy of the execution taken possession of the crop prepared the cotton for market and removed it to a warehouse This possession it is insisted was a trespass because it was acquired in the absence of the defendant in execution and without his consent then given Conceding the truth of the facts stated in the bill of exceptions and we think it will not follow that the possession of the claimants is a nullity and that the case must be considered as', ''), ('if', 'they had never interfered with the crop The contract contains an express undertaking to give up the crop at any time the claimants might require it for their indemnity and', ''), ('if', 'they took possession of it in the absence of the grantor though without his consent', ''), ('if', 'he subsequently acquiesced in it the inference would be', ''), ('subject to', 'necessary that their acts were approved by him Taking this to be clear 744 law and it will be seen that the defendant in execution at the time of the levy had nothing more than a mere equitable right to redeem the cotton by paying the debts indorsed by the claimants He had no possession coupled with this equity but only a naked equity which it has been held cannot be reached by an ordinary execution Perkins and Elliott v Mayfield 5 Porter’s Rep 182 3 This brings us back to the question whether the execution of the plaintiff was a lien on the growing crop so as to defeat the mortgage to the claimants It has been frequently mooted whether at common law corn c before it is gathered can be seized under a fieri facias Mr Dane in remarking upon this point says “The American editor of Bacon’s Abridgment says ‘Wheat growing in the ground is a chattel and', ''), ('until', 'be taken in execution and the sheriff may suffer it to grow till harvest and then cut and sell it or may perhaps sell it growing and the purchaser will then be entitled to enter for the purpose of cutting and carrying it away” He cites Whipple v Foot ut supra also Poole’s case Salk 368 1 Bos  P 397 6 East 604 n But Whipple v Foot seems to be the only case that supports his position that unripe wheat or corn may be taken in execution and the same editor states that nothing can be taken in execution which cannot be sold This position says the learned commentator is no doubt law But it is unnecessary to consider how this matter stands at common law The first section of the act of 1821 “To prevent sheriffs and other officers from levying executions in certain cases enacts that “It shall not be lawful for any sheriff or other officer to levy a writ of fieri facias or other execution on the planted crop of a debtor or person against whom an execution may issue', ''), ('until', 'the crop is gathered” Aik Dig 167 Now here is an express inhibition to levy an execution on a crop while it remains on or in the ground and', ''), ('if', 'it is severed from the soil to which it owes its growth In respect to property thus situated will the lien of an execution attach eo instanti upon its being placed in the hands of an officer', ''), ('until', 'so the act cited will only have the effect of keeping the right to levy it in abeyance', ''), ('if', 'the crop is gathered The lien of an execution does not only operate so as to prevent the debtor from disposing of the property on which it attaches but gives to the creditor the right to have it sold to satisfy his 745 judgment The lien and the right to levy are intimately connected and', ''), ('until', 'the latter be taken away or suspended the effect at common law is the destruction of the former This principle is fully established by Mansony and Hurtell v The President c of the Bank of the United States and its assignees and the citations contained in the opinion of the court in that case as also in my opinion in Wood v Gary et al both decided at the last term That it was competent for the legislature to have made it unlawful to levy an execution on particular property', ''), ('if', 'its condition was changed and still to give it a continuing lien cannot be doubted but there is nothing in the act in question to indicate that such is its intention', ''), ('until', 'the object was merely to suspend the sale', ''), ('as soon as', 'the crop was gathered it would have been very easy to have said so in explicit terms but declaring as the statute does in totidem verbis that the execution shall not be levied the legislature must be supposed to have meant what they have expressed The act was induced by the doubts which existed as to what was the common law and was intended to remove those doubts by declaring what should be the law in future It does not create a lien or authorize a levy in a case in which the law as it then existed was silent The idea that the lien attached upon the planted crop', ''), ('until', 'the execution was delivered to the sheriff though the right to levy it was postponed', ''), ('if', 'a severance took place is attempted to be deduced from the last words of the section cited viz “until the crop is gathered” These words cannot upon any just principles of construction be regarded so potent as to give to an execution a retrospective effect They do not refer to the lien', ''), ('until', 'they did they would postpone it', ''), ('until', 'the crop was gathered but it is the levy they relate to and postpone', ''), ('until', 'that event takes place 4 The right to levy an execution on a planted crop then being expressly taken away by the statute the lien which is connected with and consequent upon that right never attaches', ''), ('if', 'severance This being the case the right of the defendant in execution to make the contract which he did is unquestionable and the title of the claimants coupled as it was with the possession was paramount to any lien which the execution could exert The circuit judge may have mistaken the law in supposing that the contract was a sale but', ''), ('when', 'he did an error in that respect was very immaterial for whether a sale or mortgage as we have 746 seen under the facts of the case the defendant in execution has no interest that could be seised and sold under execution There is no assumption of any material fact in the charge but the possession of the claimant the time', ''), ('if', 'acquired the gathering of the crop c are all referred to the determination of the jury who are instructed', ''), ('until', 'they find them according to the evidence adduced that no lien ever attached in favor of the plaintiff The bona fides of the contract was conceded so that no charge was necessary on that point and it could not with propriety enter into the inquiry of the jury It results from what has been said that the judgment of the circuit court is affirmed  DISSENTING OPINION  ORMOND J 4 The statute which presents the question before the court is that “it shall not be lawful for any sheriff or other officer to levy a writ of fieei facias or other execution on the planted crop of a debtor or person against whom an execution may issue', ''), ('subject to', 'the crop is gathered” Clay’s Dig 210 § 46 I shall not enter upon the enquiry whether at common law an execution could be levied upon a growing crop though I apprehend it would not be difficult to maintain the affirmative of the proposition It is sufficient for my purpose that the statute supposes such to have been the law as it doubtless was the practice This act must be considered in connection with the other acts upon the same subject The policy of the State as indicated by these statutes is undeniably that all the property of a debtor real and personal to which he has a legal title shall be', ''), ('until', 'sale by execution and it appears to me that it would be difficult to assign a reason for the exemption of this species of property from the claims of judgment creditors and for giving to the defendant in execution the right to dispose of it It appears to me with all deference that the argument that because the sheriff was prohibited from levying on a ““planted crop” that therefore the execution had lost its lien and the debtor had the right to sell it is a non sequitur The mischief which the statute designed to remedy was the sacrifice which would be necessarily made by the sale of an immature crop the statute enables the debtor to retain it', ''), ('if', 'it matures and by severing it from the soil to put it 747 in a condition to bring its valuethe lien in the mean time continuing in the plaintiff in execution 5', ''), ('until', 'further confirmation of the correctness of this view were necessary it will be found I think in the language employed by the legislature The sheriff is forbidden to levy on a “planted crop”', ''), ('if', 'the crop is gathered Now', ''), ('until', 'the view taken by the majority of the court is correct the right secured to the plaintiff in execution of levying on the crop after it is gathered may be frustrated as it was in this case by a sale by the defendant in execution whilst the crop is in an immature state The construction which has been put upon the statute involves the singular anomaly that the legislature for the protection of the debtor has forbidden the plaintiff in execution to sell the property of his debtor because it is not in a condition to bring its value and yet permits the debtor voluntarily by a sale to submit to the same sacrifice for his own benefit It is in effect a gift to the defendant in execution of the growing crop provided he does not gather it himself but disposes of it in its then condition This I feel a thorough conviction was not the intention of the legislature but that it was to secure him from loss by prohibiting a levy and sale of the crop', ''), ('when', 'it was gathered', ''), ('subject to', 'the temporary suspension of the right to sell ceased All Citations 5 Ala 740 1843 WL 284 End of Document © 2019 Thomson Reuters No claim to original US Government Works Citing References 9 Treatment Title Date Type Depth Headnotes Cited by 1  Booker v Jones’s Adm’x 55 Ala 266 271  Ala Trover for Conversion of Cotton with Counts in Case APPEAL from the Circuit Court of Hale Tried before the Hon M J SAFFOLD Dec Term 1876 Case — Cited by 2  Lehman Durr  Co v Marshall 47 Ala 362 376  Ala TROVER FOR CONVERSION OF COTTON APPEAL from the City Court of Montgomery Tried before Hon JOHN D CUNNINGHAM Jan Term 1872 Case — Cited by 3  Bibb v Janney 45 Ala 329 334  Ala GARNISHMENT WAGES WAIVER OF EXEMPTION APPEAL from City Court of Montgomery Tried before Hon JOHN D CUNNINGHAM Jan Term 1871 Case — Cited by 4  McKenzie v Lampley 31 Ala 526 527  Ala TRIAL OF RIGHT OF PROPERTY IN COTTON APPEAL from the Circuit Court of Barbour Tried before the Hon S D HALE Jan Term 1858 Case — Cited by 5  Evans v Lamar 21 Ala 333 335  Ala ERROR to the Circuit Court of Autauga Tried before the Hon A B MOORE Jun Term 1852 Case — Cited by  6  Dewey v Bowman 8 Cal 145 147  Cal The judgment of the Court below against Jacob S Cohen should be reversed for the following reasons Because the finding of the Court was so far as Cohen was concerned Jul Term 1857 Case — Mentioned by 7  Rees v Coats 65 Ala 256 258  Ala Trover for Conversion of Three Bales of Cotton APPEAL from the Circuit Court of Etowah Tried before the Hon WM L WHITLOCK Nov Term 1880 Case — Mentioned by 8  Edwards v Thompson 4 SW 913 914  Tenn Appeal from circuit court Weakley county May 1887 Case — — 9  Growing crops as', ''), ('subject to', 'levy and seizure under attachment or execution 103 ALR 464 Generally at common law growing crops raised by annual planting while still attached to the soil are regarded as personal chattels', ''), ('where', 'levy and seizure under attachment 1936 ALR — — Table of Authorities 3 Treatment Referenced Title Type Depth Quoted Page Number Mentioned 1  Austin v Sawyer 9 Cow 39 NYSup 1828 Parol evidence is not admissible to contradict or substantially vary a written contract And', '')]\n",
            "6.Constraints-> [('after', '5 ala 740 supreme court of alabama adams v tanner and horton june term 1843 synopsis writ of error to the circuit court of sumter     west headnotes 2   1 chattel mortgages crops a growing crop has such an existence as to be the subjectmatter of a mortgage or other contract which passes an interest to vest in possession either immediately or at a future time 4 cases that cite this headnote  2 creditors’ remedies lien and priority under st1821 prohibiting a levy on a crop until it has been gathered no lien attaches in favor of a fi fa on a growing crop nor does such lien attach until', ''), ('first of', 'the crop has been gathered 5 cases that cite this headnote  1 this was a trial of the right of property under the statute in november 1840 an execution issued from the circuit court of sumter at the suit of the plaintiff in error requiring the sheriff of that county to make of the goods c of allen harrison and others the sum of thirtyseven hundred and seventyseven 80100 dollars besides costs this execution was levied on thirty bales of cotton as the property of allen harrison which was claimed and a bond given to try the right an issue was made up to try the question of the liability of the cotton to the plaintiff’s execution and submitted to a jury on the trial a bill of exceptions was sealed at the instance of the plaintiff the plaintiff proved that he recovered his judgment in october 1839 that an execution 741 was issued thereon on the 7th nov thereafter and that alias and pluries fieri facias’ issued regularly up to the time levy was made that the cotton levied on was growed on the plantation of harrison and cultivated by the hands in his service it was proved by the claimants by the production of a written contract that harrison on the twentysecond of may 1840 in consideration that the claimants were involved as indorsers for burton  harrison of sumter county and were then exposed to an execution amounting to upwards of fourteen thousand dollars bargained and sold to the claimants all his growing crop of cotton c consisting of one hundred and twenty acres c allen harrison promised and obliged himself to give up his crop to the use of the claimants at any time to save them from suffering as his indorsers if the crop matured and was gathered he undertook to deliver the cotton in gainesville the claimants came from tennessee where they resided about the', ''), ('first of', 'september 1840 bringing with them three or four white laborers and took possession of the crop and slaves and with the latter and white laborers gathered the cotton prepared it for market and when levied on it was in a warehouse in gainesville the plaintiff then proved by harrison that the claimants took possession of the crop while he was absent and disposed of it without his consent it was admitted that the contract was made in good faith the court charged the jury that the plaintiff had no lien by virtue of his judgment and execution on the growing crop that harrison had a right to convey it without being in any manner restrained by them that the writing adduced was a sale of the crop but if it was not and the lien of the fieri facias would have attached upon it when gathered yet if the claimants obtained possession on the', ''), ('after', 'september and controlled the gathering of the crop then no lien attached and it was not subject to the levy attorneys and law firms r h smith for the plaintiff in error made the following points1 the crop of harrison must in may 1840 have been in an immature state and it is insisted was not the subject of a sale 2 by the common law a growing crop could be levied on and sold 1 salk rep 361 1 bos  p rep 307 6 east’s rep 604 note 1 2 johns rep 418 422 7 mass rep 34 and our statue aik dig § 41 p 167 which forbids the levy of an 742 execution on a growing crop is to receive a strict construction it merely inhibits the levy but the lien attaches and a levy and sale may be made', ''), ('more than', 'the crop matures and is gathered 3 the contract does not purport to convey the growing crop but is a mere executory agreement requiring some act to be done by harrison in order to invest the claimants with the right of property chit on con 112 207 3 johns rep 338 424 5 wend rep 26 13 johns rep 235 8 dowl rep 693 and until this act was done the crop no matter by who gathered because liable to be seized for harrison’s debts a court of chancery would not compel a specific performance of the contract at the claimant’s instance 4 the charge of the court is also objectionable in deciding disputed facts w m murphy with whom was w g jones for the defendantcited the act of 1821 aik dig 167 which declares it to be lawful to levy an execution on a planted crop until it is gathered and contended that no lien attached in favor of the plaintiff this being the case the defendant in execution was not restrained from making the contract which he did with the claimants 2 the lien of an execution is destroyed by an injunction because it takes away the right to levy it in short whenever the right to levy an execution is but temporarily suspended or withdrawn the lien is during that time lost whipple v foot 2 johns rep 216 3 wash c c rep 66 4 how rep 130 it is admitted that the contract between the defendant in execution and the claimants was in good faith if so the severance and removal of the cotton gave the latter a good title against all creditors of the former opinion  collier c j  there can be no doubt that a growing crop has such an existence as to be the subject matter of a sale mortgage or other contract which possess an interest to vest in possession either immediately or at some future time this proposition has frequently been assumed as unquestionable the point of inquiry generally being whether under a statute of frauds such as the 29 chas 2 it is a mere chattel and transferrable by parol without writing chitty on con 2412 332 whipple v foot 2 johns rep 422 stewart v doughty 9 johns rep 112 743 austin v sawyer 9 cow rep 39 see also ravesies v lee  alston at last term the contract set out in the bill of exceptions we are inclined to think evidences rather a mortgage than an absolute sale it recites that the claimants are involved as indorsers of a mercantile firm of which the defendant was a partner that an execution for upwards of fourteen thousand dollars against their estate is in the sheriff’s hands and that a conveyance is made of the crop of cotton corn and oats which the grantor agrees to give up at any time to the use of the claimants so as to prevent injury to them as indorsers the defendant in execution might at any time have divested the interest which the contract vested in the claimants by discharging their liability as his indorsers or a judgment creditor might have satisfied the lien and when the crop was gathered have levied on and sold it under a fieri facias we will then consider the writing under which the claimants assert a right as a mortgage with a power to take possession any time during the year unless they should be relieved from their engagements as indorsers it is not pretended that their liability has been satisfied and it is admitted that the parties have acted with good faith so that it is a dry question of law whether the right of the plaintiff or the claimants shall prevail assuming for the present that the execution of the plaintiffs did not operate a lien upon the planted crop previous to the contract of may 1840 we will inquire whether the defendant in execution had such an interest as could be levied on and sold the claimants had previous to the levy of the execution taken possession of the crop prepared the cotton for market and removed it to a warehouse this possession it is insisted was a trespass because it was acquired in the absence of the defendant in execution and without his consent then given conceding the truth of the facts stated in the bill of exceptions and we think it will not follow that the possession of the claimants is a nullity and that the case must be considered as if they had never interfered with the crop the contract contains an express undertaking to give up the crop at any time the claimants might require it for their indemnity and if they took possession of it in the absence of the grantor though without his consent if he subsequently acquiesced in it the inference would be if necessary that their acts were approved by him taking this to be clear 744 law and it will be seen that the defendant in execution at the time of the levy had nothing', ''), ('before', 'a mere equitable right to redeem the cotton by paying the debts indorsed by the claimants he had no possession coupled with this equity but only a naked equity which it has been held cannot be reached by an ordinary execution perkins and elliott v mayfield 5 porter’s rep 182 3 this brings us back to the question whether the execution of the plaintiff was a lien on the growing crop so as to defeat the mortgage to the claimants it has been frequently mooted whether at common law corn c', ''), ('before', 'it is gathered can be seized under a fieri facias mr dane in remarking upon this point says “the american editor of bacon’s abridgment says ‘wheat growing in the ground is a chattel and subject to be taken in execution and the sheriff may suffer it to grow till harvest and then cut and sell it or may perhaps sell it growing and the purchaser will then be entitled to enter for the purpose of cutting and carrying it away” he cites whipple v foot ut supra also poole’s case salk 368 1 bos  p 397 6 east 604 n but whipple v foot seems to be the only case that supports his position that unripe wheat or corn may be taken in execution and the same editor states that nothing can be taken in execution which cannot be sold this position says the learned commentator is no doubt law but it is unnecessary to consider how this matter stands at common law the first section of the act of 1821 “to prevent sheriffs and other officers from levying executions in certain cases enacts that “it shall not be lawful for any sheriff or other officer to levy a writ of fieri facias or other execution on the planted crop of a debtor or person against whom an execution may issue until the crop is gathered” aik dig 167 now here is an express inhibition to levy an execution on a crop while it remains on or in the ground and until it is severed from the soil to which it owes its growth in respect to property thus situated will the lien of an execution attach eo instanti upon its being placed in the hands of an officer if so the act cited will only have the effect of keeping the right to levy it in abeyance until the crop is gathered the lien of an execution does not only operate so as to prevent the debtor from disposing of the property on which it attaches but gives to the creditor the right to have it sold to satisfy his 745 judgment the lien and the right to levy are intimately connected and if the latter be taken away or suspended the effect at common law is the destruction of the former this principle is fully established by mansony and hurtell v the president c of the bank of the united states and its assignees and the citations contained in the opinion of the court in that case as also in my opinion in wood v gary et al both decided at the last term that it was competent for the legislature to have made it unlawful to levy an execution on particular property until its condition was changed and still to give it a continuing lien cannot be doubted but there is nothing in the act in question to indicate that such is its intention if the object was merely to suspend the sale until the crop was gathered it would have been very easy to have said so in explicit terms but declaring as the statute does in totidem verbis that the execution shall not be levied the legislature must be supposed to have meant what they have expressed the act was induced by the doubts which existed as to what was the common law and was intended to remove those doubts by declaring what should be the law in future it does not create a lien or authorize a levy in a case in which the law as it then existed was silent the idea that the lien attached upon the planted crop as soon as the execution was delivered to the sheriff though the right to levy it was postponed until a severance took place is attempted to be deduced from the last words of the section cited viz “until the crop is gathered” these words cannot upon any just principles of construction be regarded so potent as to give to an execution a retrospective effect they do not refer to the lien if they did they would postpone it until the crop was gathered but it is the levy they relate to and postpone until that event takes place 4 the right to levy an execution on a planted crop then being expressly taken away by the statute the lien which is connected with and consequent upon that right never attaches until severance this being the case the right of the defendant in execution to make the contract which he did is unquestionable and the title of the claimants coupled as it was with the possession was paramount to any lien which the execution could exert the circuit judge may have mistaken the law in supposing that the contract was a sale but if he did an error in that respect was very immaterial for whether a sale or mortgage as we have 746 seen under the facts of the case the defendant in execution has no interest that could be seised and sold under execution there is no assumption of any material fact in the charge but the possession of the claimant the time when acquired the gathering of the crop c are all referred to the determination of the jury who are instructed if they find them according to the evidence adduced that no lien ever attached in favor of the plaintiff the bona fides of the contract was conceded so that no charge was necessary on that point and it could not with propriety enter into the inquiry of the jury it results from what has been said that the judgment of the circuit court is affirmed  dissenting opinion  ormond j 4 the statute which presents the question', ''), ('after', 'the court is that “it shall not be lawful for any sheriff or other officer to levy a writ of fieei facias or other execution on the planted crop of a debtor or person against whom an execution may issue until the crop is gathered” clay’s dig 210 § 46 i shall not enter upon the enquiry whether at common law an execution could be levied upon a growing crop though i apprehend it would not be difficult to maintain the affirmative of the proposition it is sufficient for my purpose that the statute supposes such to have been the law as it doubtless was the practice this act must be considered in connection with the other acts upon the same subject the policy of the state as indicated by these statutes is undeniably that all the property of a debtor real and personal to which he has a legal title shall be subject to sale by execution and it appears to me that it would be difficult to assign a reason for the exemption of this species of property from the claims of judgment creditors and for giving to the defendant in execution the right to dispose of it it appears to me with all deference that the argument that because the sheriff was prohibited from levying on a ““planted crop” that therefore the execution had lost its lien and the debtor had the right to sell it is a non sequitur the mischief which the statute designed to remedy was the sacrifice which would be necessarily made by the sale of an immature crop the statute enables the debtor to retain it until it matures and by severing it from the soil to put it 747 in a condition to bring its valuethe lien in the mean time continuing in the plaintiff in execution 5 if further confirmation of the correctness of this view were necessary it will be found i think in the language employed by the legislature the sheriff is forbidden to levy on a “planted crop” until the crop is gathered now if the view taken by the majority of the court is correct the right secured to the plaintiff in execution of levying on the crop', ''), ('before', 'it is gathered may be frustrated as it was in this case by a sale by the defendant in execution whilst the crop is in an immature state the construction which has been put upon the statute involves the singular anomaly that the legislature for the protection of the debtor has forbidden the plaintiff in execution to sell the property of his debtor because it is not in a condition to bring its value and yet permits the debtor voluntarily by a sale to submit to the same sacrifice for his own benefit it is in effect a gift to the defendant in execution of the growing crop provided he does not gather it himself but disposes of it in its then condition this i feel a thorough conviction was not the intention of the legislature but that it was to secure him from loss by prohibiting a levy and sale of the crop until it was gathered when the temporary suspension of the right to sell ceased all citations 5 ala 740 1843 wl 284 end of document © 2019 thomson reuters no claim to original us government works citing references 9 treatment title date type depth headnotes cited by 1  booker v jones’s adm’x 55 ala 266 271  ala trover for conversion of cotton with counts in case appeal from the circuit court of hale tried', ''), ('before', 'the hon m j saffold dec term 1876 case — cited by 2  lehman durr  co v marshall 47 ala 362 376  ala trover for conversion of cotton appeal from the city court of montgomery tried', ''), ('before', 'hon john d cunningham jan term 1872 case — cited by 3  bibb v janney 45 ala 329 334  ala garnishment wages waiver of exemption appeal from city court of montgomery tried', ''), ('before', 'hon john d cunningham jan term 1871 case — cited by 4  mckenzie v lampley 31 ala 526 527  ala trial of right of property in cotton appeal from the circuit court of barbour tried', ''), ('before', 'the hon s d hale jan term 1858 case — cited by 5  evans v lamar 21 ala 333 335  ala error to the circuit court of autauga tried', ''), ('before', 'the hon a b moore jun term 1852 case — cited by  6  dewey v bowman 8 cal 145 147  cal the judgment of the court below against jacob s cohen should be reversed for the following reasons because the finding of the court was so far as cohen was concerned jul term 1857 case — mentioned by 7  rees v coats 65 ala 256 258  ala trover for conversion of three bales of cotton appeal from the circuit court of etowah tried', '')]\n",
            "7.Copy right-> [('©', '2019', 'Thomson Reuters No')]\n",
            "8.courts->\n",
            "entity= (1, 'United States Supreme Court', 0, [('United States Supreme Court', None, False, None, ' united states supreme court '), ('Supreme Court', None, False, None, ' supreme court '), (' SCOTUS', None, False, None, ' scotus ')])\n",
            "alias= ('Supreme Court', None, False, None, ' supreme court ')\n",
            "9.Cusip->None\n",
            "10.Dates-> [datetime.date(2020, 6, 1), datetime.date(1840, 11, 1), datetime.date(1839, 10, 1), datetime.date(1840, 5, 1), datetime.date(1840, 9, 1), datetime.date(1840, 5, 1), datetime.date(1840, 5, 1), datetime.date(2020, 12, 1), datetime.date(2020, 12, 1), datetime.date(2020, 1, 1), datetime.date(2020, 1, 1), datetime.date(2020, 1, 1), datetime.date(2020, 3, 21), datetime.date(2020, 6, 1), datetime.date(2020, 7, 1), datetime.date(2020, 11, 1), datetime.date(1887, 5, 1)]\n",
            "11.Definitions->None\n",
            "12.Distances->None\n",
            "13.Durations-> [('year', 6.0, 2190.0)]\n",
            "14.geographic and geopolitical entities->\n",
            "entity= (254, 'Alabama', 'US States', [('Alabama', None, False, None, ' alabama ')])\n",
            "alias= ('Alabama', None, False, None, ' alabama ')\n",
            "entity= (296, 'Tennessee', 'US States', [('Tennessee', None, False, None, ' tennessee ')])\n",
            "alias= ('Tennessee', None, False, None, ' tennessee ')\n",
            "entity= (240, 'United States', 'Countries', [('United States', None, False, None, ' united states ')])\n",
            "alias= ('United States', None, False, None, ' united states ')\n",
            "15.Money and currency usages-> [(80100.0, 'USD'), (14000, 'USD'), (14000, 'USD')]\n",
            "16.Percents->None\n",
            "17.PII->None\n",
            "18.Ratios->None\n",
            "19.Regulations->None\n",
            "20.Trademarks->None\n",
            "21.URL->None\n"
          ],
          "name": "stdout"
        }
      ]
    },
    {
      "cell_type": "code",
      "metadata": {
        "id": "AMNyRXv36-iO",
        "colab_type": "code",
        "colab": {}
      },
      "source": [
        "from zipfile import ZipFile\n",
        "with ZipFile('stanford-ner-2018-10-16.zip', 'r') as zipObj:\n",
        "   zipObj.extractall('/stanford')"
      ],
      "execution_count": 0,
      "outputs": []
    },
    {
      "cell_type": "code",
      "metadata": {
        "id": "ldS5UcNQEyOd",
        "colab_type": "code",
        "outputId": "6291fbc0-0e12-4fe1-9d33-f880cc946f41",
        "colab": {
          "base_uri": "https://localhost:8080/",
          "height": 702
        }
      },
      "source": [
        "import nltk\n",
        "from nltk.tag.stanford import StanfordNERTagger\n",
        "st = StanfordNERTagger('/stanford/stanford-ner-2018-10-16/classifiers/english.all.3class.distsim.crf.ser.gz', '/stanford/stanford-ner-2018-10-16/stanford-ner.jar')\n",
        "print('22.Persons->')\n",
        "for sent in nltk.sent_tokenize(cleaned):\n",
        "    tokens = nltk.tokenize.word_tokenize(sent)\n",
        "    tags = st.tag(tokens)\n",
        "    for tag in tags:\n",
        "        if tag[1]=='PERSON': print(tag)"
      ],
      "execution_count": 0,
      "outputs": [
        {
          "output_type": "stream",
          "text": [
            "22.Persons->\n",
            "('Lien', 'PERSON')\n",
            "('Allen', 'PERSON')\n",
            "('Harrison', 'PERSON')\n",
            "('Allen', 'PERSON')\n",
            "('Harrison', 'PERSON')\n",
            "('Harrison', 'PERSON')\n",
            "('Harrison', 'PERSON')\n",
            "('Burton', 'PERSON')\n",
            "('Harrison', 'PERSON')\n",
            "('Allen', 'PERSON')\n",
            "('Harrison', 'PERSON')\n",
            "('Harrison', 'PERSON')\n",
            "('Harrison', 'PERSON')\n",
            "('SMITH', 'PERSON')\n",
            "('Harrison', 'PERSON')\n",
            "('Harrison', 'PERSON')\n",
            "('Harrison', 'PERSON')\n",
            "('W', 'PERSON')\n",
            "('G', 'PERSON')\n",
            "('JONES', 'PERSON')\n",
            "('Perkins', 'PERSON')\n",
            "('Dane', 'PERSON')\n",
            "('Salk', 'PERSON')\n",
            "('Mansony', 'PERSON')\n",
            "('Gary', 'PERSON')\n",
            "('Hon', 'PERSON')\n",
            "('JOHN', 'PERSON')\n",
            "('D', 'PERSON')\n",
            "('CUNNINGHAM', 'PERSON')\n",
            "('Hon', 'PERSON')\n",
            "('JOHN', 'PERSON')\n",
            "('D', 'PERSON')\n",
            "('CUNNINGHAM', 'PERSON')\n",
            "('Jacob', 'PERSON')\n",
            "('S', 'PERSON')\n",
            "('Cohen', 'PERSON')\n",
            "('Cohen', 'PERSON')\n",
            "('Weakley', 'PERSON')\n"
          ],
          "name": "stdout"
        }
      ]
    },
    {
      "cell_type": "code",
      "metadata": {
        "id": "dOF17zGcDygn",
        "colab_type": "code",
        "outputId": "bc777207-2826-4cc0-b0e7-24424128228f",
        "colab": {
          "base_uri": "https://localhost:8080/",
          "height": 34
        }
      },
      "source": [
        "pip install pyap==0.2.0"
      ],
      "execution_count": 0,
      "outputs": [
        {
          "output_type": "stream",
          "text": [
            "Requirement already satisfied: pyap==0.2.0 in /usr/local/lib/python3.6/dist-packages (0.2.0)\n"
          ],
          "name": "stdout"
        }
      ]
    },
    {
      "cell_type": "code",
      "metadata": {
        "id": "M31dYh0wJiAw",
        "colab_type": "code",
        "outputId": "ca6eddfe-3722-4477-b708-e4719dfd2843",
        "colab": {
          "base_uri": "https://localhost:8080/",
          "height": 90
        }
      },
      "source": [
        "import pyap\n",
        "addresses = pyap.parse(cleaned, country='US')\n",
        "print('23.Address->')\n",
        "for address in addresses:\n",
        "  print(address)\n",
        "  print(address.as_dict())"
      ],
      "execution_count": 0,
      "outputs": [
        {
          "output_type": "stream",
          "text": [
            "23.Address->\n",
            "5 Ala 740 Supreme Court of Alabama ADAMS\n",
            "{'full_address': '5 Ala 740 Supreme Court of Alabama ADAMS', 'full_street': '5 Ala 740 Supreme Court', 'street_number': '5', 'street_name': 'Ala 740 Supreme', 'street_type': 'Court', 'route_id': None, 'post_direction': None, 'floor': None, 'building_id': None, 'occupancy': None, 'city': 'of Alabama ADA', 'region1': 'MS', 'postal_code': None, 'country_id': 'US'}\n"
          ],
          "name": "stdout"
        }
      ]
    },
    {
      "cell_type": "code",
      "metadata": {
        "id": "_Bnd4BatBj2m",
        "colab_type": "code",
        "colab": {}
      },
      "source": [
        ""
      ],
      "execution_count": 0,
      "outputs": []
    },
    {
      "cell_type": "code",
      "metadata": {
        "id": "Q_SB7WdMCtnD",
        "colab_type": "code",
        "colab": {}
      },
      "source": [
        ""
      ],
      "execution_count": 0,
      "outputs": []
    }
  ]
}