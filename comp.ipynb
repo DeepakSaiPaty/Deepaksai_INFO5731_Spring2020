{
  "nbformat": 4,
  "nbformat_minor": 0,
  "metadata": {
    "colab": {
      "name": "comp.ipynb",
      "provenance": [],
      "authorship_tag": "ABX9TyOdr865nBuJuExdBHNGO+Y5",
      "include_colab_link": true
    },
    "kernelspec": {
      "name": "python3",
      "display_name": "Python 3"
    }
  },
  "cells": [
    {
      "cell_type": "markdown",
      "metadata": {
        "id": "view-in-github",
        "colab_type": "text"
      },
      "source": [
        "<a href=\"https://colab.research.google.com/github/DeepakSaiPaty/Deepaksai_INFO5731_Spring2020/blob/master/comp.ipynb\" target=\"_parent\"><img src=\"https://colab.research.google.com/assets/colab-badge.svg\" alt=\"Open In Colab\"/></a>"
      ]
    },
    {
      "cell_type": "code",
      "metadata": {
        "id": "AXSlj5DOu6v3",
        "colab_type": "code",
        "outputId": "d4625493-d343-4c88-c0a3-26be1b4c9ecb",
        "colab": {
          "base_uri": "https://localhost:8080/",
          "height": 107
        }
      },
      "source": [
        "pip install GetOldTweets3"
      ],
      "execution_count": 0,
      "outputs": [
        {
          "output_type": "stream",
          "text": [
            "Requirement already satisfied: GetOldTweets3 in /usr/local/lib/python3.6/dist-packages (0.0.11)\n",
            "Requirement already satisfied: lxml>=3.5.0 in /usr/local/lib/python3.6/dist-packages (from GetOldTweets3) (4.2.6)\n",
            "Requirement already satisfied: pyquery>=1.2.10 in /usr/local/lib/python3.6/dist-packages (from GetOldTweets3) (1.4.1)\n",
            "Requirement already satisfied: cssselect>0.7.9 in /usr/local/lib/python3.6/dist-packages (from pyquery>=1.2.10->GetOldTweets3) (1.1.0)\n"
          ],
          "name": "stdout"
        }
      ]
    },
    {
      "cell_type": "code",
      "metadata": {
        "id": "2ybxibVfwtJo",
        "colab_type": "code",
        "outputId": "941cd4ff-06af-4269-b75a-2ef7ab644252",
        "colab": {
          "base_uri": "https://localhost:8080/",
          "height": 511
        }
      },
      "source": [
        "pip install -r requirements.txt"
      ],
      "execution_count": 0,
      "outputs": [
        {
          "output_type": "stream",
          "text": [
            "Collecting lxml==3.5.0\n",
            "\u001b[?25l  Downloading https://files.pythonhosted.org/packages/8b/be/ed850baac891aca25c832fb8d7b9c0e7a5077a30e336d95ffc7d649aaa06/lxml-3.5.0.tar.gz (3.8MB)\n",
            "\u001b[K     |████████████████████████████████| 3.8MB 1.3MB/s \n",
            "\u001b[?25hCollecting pyquery==1.2.10\n",
            "\u001b[?25l  Downloading https://files.pythonhosted.org/packages/a8/85/2cc9fef69eafe2f65e090690b5c46bbb0a45e81bf1e2096bc0ace7f46b6a/pyquery-1.2.10.tar.gz (43kB)\n",
            "\u001b[K     |████████████████████████████████| 51kB 5.8MB/s \n",
            "\u001b[?25hRequirement already satisfied: cssselect>0.7.9 in /usr/local/lib/python3.6/dist-packages (from pyquery==1.2.10->-r requirements.txt (line 2)) (1.1.0)\n",
            "Building wheels for collected packages: lxml, pyquery\n",
            "  Building wheel for lxml (setup.py) ... \u001b[?25lerror\n",
            "\u001b[31m  ERROR: Failed building wheel for lxml\u001b[0m\n",
            "\u001b[?25h  Running setup.py clean for lxml\n",
            "  Building wheel for pyquery (setup.py) ... \u001b[?25l\u001b[?25hdone\n",
            "  Created wheel for pyquery: filename=pyquery-1.2.10-cp36-none-any.whl size=19235 sha256=0c9dda908fe060199f826a6bffc8ceb9e9af4a4405d714ab077cf2d911213b65\n",
            "  Stored in directory: /root/.cache/pip/wheels/88/46/56/64827a3a40b94ce29e5d61ebc82deec2e2ee9695c55b0549ad\n",
            "Successfully built pyquery\n",
            "Failed to build lxml\n",
            "Installing collected packages: lxml, pyquery\n",
            "  Found existing installation: lxml 4.2.6\n",
            "    Uninstalling lxml-4.2.6:\n",
            "      Successfully uninstalled lxml-4.2.6\n",
            "    Running setup.py install for lxml ... \u001b[?25l\u001b[?25herror\n",
            "  Rolling back uninstall of lxml\n",
            "  Moving to /usr/local/lib/python3.6/dist-packages/lxml-4.2.6.dist-info/\n",
            "   from /usr/local/lib/python3.6/dist-packages/~xml-4.2.6.dist-info\n",
            "  Moving to /usr/local/lib/python3.6/dist-packages/lxml/\n",
            "   from /usr/local/lib/python3.6/dist-packages/~xml\n",
            "\u001b[31mERROR: Command errored out with exit status 1: /usr/bin/python3 -u -c 'import sys, setuptools, tokenize; sys.argv[0] = '\"'\"'/tmp/pip-install-gz6zkua1/lxml/setup.py'\"'\"'; __file__='\"'\"'/tmp/pip-install-gz6zkua1/lxml/setup.py'\"'\"';f=getattr(tokenize, '\"'\"'open'\"'\"', open)(__file__);code=f.read().replace('\"'\"'\\r\\n'\"'\"', '\"'\"'\\n'\"'\"');f.close();exec(compile(code, __file__, '\"'\"'exec'\"'\"'))' install --record /tmp/pip-record-24nupgtp/install-record.txt --single-version-externally-managed --compile Check the logs for full command output.\u001b[0m\n"
          ],
          "name": "stdout"
        }
      ]
    },
    {
      "cell_type": "code",
      "metadata": {
        "id": "hwYVhETpvsie",
        "colab_type": "code",
        "outputId": "53e7b79b-7178-41f8-f96e-c9748e5848ab",
        "colab": {
          "base_uri": "https://localhost:8080/",
          "height": 213
        }
      },
      "source": [
        "import GetOldTweets3 as got;\n",
        " \n",
        "tweetCriteria = got.manager.TweetCriteria().setQuerySearch('#covid-19').setMaxTweets(5).setSince('2019-06-01').setUntil('2019-07-01');\n",
        "tweets = got.manager.TweetManager.getTweets(tweetCriteria);\n",
        "for tweet in tweets:\n",
        "    print(tweet.text + '\\n');\n",
        "\n"
      ],
      "execution_count": 0,
      "outputs": [
        {
          "output_type": "stream",
          "text": [
            "Push up bra it's called I think \n",
            "\n",
            "Told you earlier some of us Men, sai ahankali wallhi. Bamu da mutunci, da tausayi da sanin yakamata... Sai kuna takasansan da mu.\n",
            "\n",
            "6months-1year I meant**\n",
            "\n",
            "Amèen Ameen Ya Allaah\n",
            "\n",
            "Kiji meye zai ce... his reaction... if he says no, listen to his reasons. If they are genuine zaki sani if not, stay clear of him. Make other plans. As simple as that\n",
            "\n"
          ],
          "name": "stdout"
        }
      ]
    },
    {
      "cell_type": "code",
      "metadata": {
        "id": "VmBu-8vywDCa",
        "colab_type": "code",
        "colab": {}
      },
      "source": [
        ""
      ],
      "execution_count": 0,
      "outputs": []
    },
    {
      "cell_type": "code",
      "metadata": {
        "id": "ErQ4rp6Vx5wC",
        "colab_type": "code",
        "outputId": "cca18569-33a4-4d24-a707-c68c77f26759",
        "colab": {
          "base_uri": "https://localhost:8080/",
          "height": 34
        }
      },
      "source": [
        "pip install got"
      ],
      "execution_count": 0,
      "outputs": [
        {
          "output_type": "stream",
          "text": [
            "Requirement already satisfied: got in /usr/local/lib/python3.6/dist-packages (0.0.1)\n"
          ],
          "name": "stdout"
        }
      ]
    },
    {
      "cell_type": "code",
      "metadata": {
        "id": "wFm7NEydx80v",
        "colab_type": "code",
        "colab": {}
      },
      "source": [
        ""
      ],
      "execution_count": 0,
      "outputs": []
    }
  ]
}