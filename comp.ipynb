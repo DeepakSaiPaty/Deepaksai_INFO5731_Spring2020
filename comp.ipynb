{
  "nbformat": 4,
  "nbformat_minor": 0,
  "metadata": {
    "colab": {
      "name": "comp.ipynb",
      "provenance": [],
      "authorship_tag": "ABX9TyNSRRpFFm8a59IoIgDttH1n",
      "include_colab_link": true
    },
    "kernelspec": {
      "name": "python3",
      "display_name": "Python 3"
    }
  },
  "cells": [
    {
      "cell_type": "markdown",
      "metadata": {
        "id": "view-in-github",
        "colab_type": "text"
      },
      "source": [
        "<a href=\"https://colab.research.google.com/github/DeepakSaiPaty/Deepaksai_INFO5731_Spring2020/blob/master/comp.ipynb\" target=\"_parent\"><img src=\"https://colab.research.google.com/assets/colab-badge.svg\" alt=\"Open In Colab\"/></a>"
      ]
    },
    {
      "cell_type": "code",
      "metadata": {
        "id": "AXSlj5DOu6v3",
        "colab_type": "code",
        "outputId": "a81873d4-b8ba-4540-8d02-9a1a216eb36a",
        "colab": {
          "base_uri": "https://localhost:8080/",
          "height": 107
        }
      },
      "source": [
        "pip install GetOldTweets3"
      ],
      "execution_count": 7,
      "outputs": [
        {
          "output_type": "stream",
          "text": [
            "Requirement already satisfied: GetOldTweets3 in /usr/local/lib/python3.6/dist-packages (0.0.11)\n",
            "Requirement already satisfied: pyquery>=1.2.10 in /usr/local/lib/python3.6/dist-packages (from GetOldTweets3) (1.4.1)\n",
            "Requirement already satisfied: lxml>=3.5.0 in /usr/local/lib/python3.6/dist-packages (from GetOldTweets3) (4.2.6)\n",
            "Requirement already satisfied: cssselect>0.7.9 in /usr/local/lib/python3.6/dist-packages (from pyquery>=1.2.10->GetOldTweets3) (1.1.0)\n"
          ],
          "name": "stdout"
        }
      ]
    },
    {
      "cell_type": "code",
      "metadata": {
        "id": "2ybxibVfwtJo",
        "colab_type": "code",
        "outputId": "397fbc54-a520-4f21-decd-ddef0eaf60af",
        "colab": {
          "base_uri": "https://localhost:8080/",
          "height": 388
        }
      },
      "source": [
        "pip install -r requirements.txt"
      ],
      "execution_count": 8,
      "outputs": [
        {
          "output_type": "stream",
          "text": [
            "Collecting lxml==3.5.0\n",
            "  Using cached https://files.pythonhosted.org/packages/8b/be/ed850baac891aca25c832fb8d7b9c0e7a5077a30e336d95ffc7d649aaa06/lxml-3.5.0.tar.gz\n",
            "Processing /root/.cache/pip/wheels/88/46/56/64827a3a40b94ce29e5d61ebc82deec2e2ee9695c55b0549ad/pyquery-1.2.10-cp36-none-any.whl\n",
            "Requirement already satisfied: cssselect>0.7.9 in /usr/local/lib/python3.6/dist-packages (from pyquery==1.2.10->-r requirements.txt (line 2)) (1.1.0)\n",
            "Building wheels for collected packages: lxml\n",
            "  Building wheel for lxml (setup.py) ... \u001b[?25lerror\n",
            "\u001b[31m  ERROR: Failed building wheel for lxml\u001b[0m\n",
            "\u001b[?25h  Running setup.py clean for lxml\n",
            "Failed to build lxml\n",
            "Installing collected packages: lxml, pyquery\n",
            "  Found existing installation: lxml 4.2.6\n",
            "    Uninstalling lxml-4.2.6:\n",
            "      Successfully uninstalled lxml-4.2.6\n",
            "    Running setup.py install for lxml ... \u001b[?25l\u001b[?25herror\n",
            "  Rolling back uninstall of lxml\n",
            "  Moving to /usr/local/lib/python3.6/dist-packages/lxml-4.2.6.dist-info/\n",
            "   from /usr/local/lib/python3.6/dist-packages/~xml-4.2.6.dist-info\n",
            "  Moving to /usr/local/lib/python3.6/dist-packages/lxml/\n",
            "   from /usr/local/lib/python3.6/dist-packages/~xml\n",
            "\u001b[31mERROR: Command errored out with exit status 1: /usr/bin/python3 -u -c 'import sys, setuptools, tokenize; sys.argv[0] = '\"'\"'/tmp/pip-install-y8t5oex3/lxml/setup.py'\"'\"'; __file__='\"'\"'/tmp/pip-install-y8t5oex3/lxml/setup.py'\"'\"';f=getattr(tokenize, '\"'\"'open'\"'\"', open)(__file__);code=f.read().replace('\"'\"'\\r\\n'\"'\"', '\"'\"'\\n'\"'\"');f.close();exec(compile(code, __file__, '\"'\"'exec'\"'\"'))' install --record /tmp/pip-record-965b9r1z/install-record.txt --single-version-externally-managed --compile Check the logs for full command output.\u001b[0m\n"
          ],
          "name": "stdout"
        }
      ]
    },
    {
      "cell_type": "code",
      "metadata": {
        "id": "yTxfSmHnNqy5",
        "colab_type": "code",
        "colab": {}
      },
      "source": [
        "def get_twitter_info():\n",
        "    tweet_df[\"tweet_text\"] = tweet_df[\"got_criteria\"].apply(lambda x: x.text)\n",
        "    tweet_df[\"date\"] = tweet_df[\"got_criteria\"].apply(lambda x: x.date)\n",
        "    tweet_df[\"hashtags\"] = tweet_df[\"got_criteria\"].apply(lambda x: x.hashtags)\n",
        "    tweet_df[\"link\"] = tweet_df[\"got_criteria\"].apply(lambda x: x.permalink)"
      ],
      "execution_count": 0,
      "outputs": []
    },
    {
      "cell_type": "code",
      "metadata": {
        "id": "Ld4ZlsU9Nbwq",
        "colab_type": "code",
        "colab": {}
      },
      "source": [
        "#set search variables\n",
        "import pandas as pd\n",
        "import GetOldTweets3 as got\n",
        "keyword = \"#covid-19\"\n",
        "oldest_date = \"2020-02-11\"    \n",
        "newest_date = \"2020-03-20\"\n",
        "locations =[\"faridpur\"]\n",
        "\n",
        "number_tweets = 10000        #per location\n",
        "\n",
        "#get old tweets\n",
        "tweetCriteria_list = []\n",
        "for location in locations:\n",
        "  try:\n",
        "    tweetCriteria = got.manager.TweetCriteria().setQuerySearch(keyword)\\\n",
        "                                           .setSince(oldest_date)\\\n",
        "                                           .setUntil(newest_date)\\\n",
        "                                            .setNear(location)\\\n",
        "                                           .setMaxTweets(number_tweets)\n",
        "    tweetCriteria_list.append(tweetCriteria)\n",
        "  except:\n",
        "    continue   \n",
        "#create twitter info for each city\n",
        "tweet_dict = {}\n",
        "for criteria, location in zip(tweetCriteria_list, locations):\n",
        "    tweets = got.manager.TweetManager.getTweets(criteria)\n",
        "    tweet_dict[location] = tweets\n",
        "    \n",
        "#create df\n",
        "tweet_df = pd.DataFrame(dict([ (k,pd.Series(v)) for k,v in tweet_dict.items() ]))\n",
        "tweet_df['tweet_count'] = tweet_df.index\n",
        "tweet_df = pd.melt(tweet_df, id_vars=[\"tweet_count\"], var_name='City', value_name='got_criteria')\n",
        "tweet_df = tweet_df.dropna()\n",
        "\n",
        "#extract twitter information\n",
        "get_twitter_info()\n",
        "tweet_df = tweet_df.drop(\"got_criteria\", 1)\n",
        "tweet_df.head()\n",
        "#tweet_df['date'] = tweet_df['date'].str.split(' ').str[0]\n",
        "#export\n",
        "tweet_df.to_csv(\"bang_6.csv\")"
      ],
      "execution_count": 0,
      "outputs": []
    },
    {
      "cell_type": "code",
      "metadata": {
        "id": "VmBu-8vywDCa",
        "colab_type": "code",
        "outputId": "06a979ba-efcd-4d2e-a5cb-dbc78b22bdbe",
        "colab": {
          "base_uri": "https://localhost:8080/",
          "height": 1000
        }
      },
      "source": [
        "tweet_df"
      ],
      "execution_count": 56,
      "outputs": [
        {
          "output_type": "execute_result",
          "data": {
            "text/html": [
              "<div>\n",
              "<style scoped>\n",
              "    .dataframe tbody tr th:only-of-type {\n",
              "        vertical-align: middle;\n",
              "    }\n",
              "\n",
              "    .dataframe tbody tr th {\n",
              "        vertical-align: top;\n",
              "    }\n",
              "\n",
              "    .dataframe thead th {\n",
              "        text-align: right;\n",
              "    }\n",
              "</style>\n",
              "<table border=\"1\" class=\"dataframe\">\n",
              "  <thead>\n",
              "    <tr style=\"text-align: right;\">\n",
              "      <th></th>\n",
              "      <th>tweet_count</th>\n",
              "      <th>City</th>\n",
              "      <th>tweet_text</th>\n",
              "      <th>date</th>\n",
              "      <th>hashtags</th>\n",
              "      <th>link</th>\n",
              "    </tr>\n",
              "  </thead>\n",
              "  <tbody>\n",
              "    <tr>\n",
              "      <th>0</th>\n",
              "      <td>0</td>\n",
              "      <td>bhairab</td>\n",
              "      <td>মহামারী নিয়ে মুহাম্মদ ( স.) পরামর্শ যা আজ থেক...</td>\n",
              "      <td>2020-03-19 11:36:27+00:00</td>\n",
              "      <td></td>\n",
              "      <td>https://twitter.com/nishitahaque/status/124060...</td>\n",
              "    </tr>\n",
              "    <tr>\n",
              "      <th>1</th>\n",
              "      <td>1</td>\n",
              "      <td>bhairab</td>\n",
              "      <td>When lock down my jobs for covid'19 , I just r...</td>\n",
              "      <td>2020-03-18 15:46:09+00:00</td>\n",
              "      <td></td>\n",
              "      <td>https://twitter.com/mumtaj97/status/1240303487...</td>\n",
              "    </tr>\n",
              "    <tr>\n",
              "      <th>10000</th>\n",
              "      <td>0</td>\n",
              "      <td>jashore</td>\n",
              "      <td>Me wondering why it's taken @765nic this long ...</td>\n",
              "      <td>2020-03-19 23:59:59+00:00</td>\n",
              "      <td></td>\n",
              "      <td>https://twitter.com/Danielle61574/status/12407...</td>\n",
              "    </tr>\n",
              "    <tr>\n",
              "      <th>10001</th>\n",
              "      <td>1</td>\n",
              "      <td>jashore</td>\n",
              "      <td>Hace unas semanas andaba llamando a marchar cu...</td>\n",
              "      <td>2020-03-19 23:59:59+00:00</td>\n",
              "      <td></td>\n",
              "      <td>https://twitter.com/oui_Le_bon/status/12407901...</td>\n",
              "    </tr>\n",
              "    <tr>\n",
              "      <th>10002</th>\n",
              "      <td>2</td>\n",
              "      <td>jashore</td>\n",
              "      <td>COVID-19: Keeping safe and The Icehouse Commun...</td>\n",
              "      <td>2020-03-19 23:59:59+00:00</td>\n",
              "      <td>#covid #theicehouse #strongertogether</td>\n",
              "      <td>https://twitter.com/the_icehouse/status/124079...</td>\n",
              "    </tr>\n",
              "    <tr>\n",
              "      <th>...</th>\n",
              "      <td>...</td>\n",
              "      <td>...</td>\n",
              "      <td>...</td>\n",
              "      <td>...</td>\n",
              "      <td>...</td>\n",
              "      <td>...</td>\n",
              "    </tr>\n",
              "    <tr>\n",
              "      <th>19995</th>\n",
              "      <td>9995</td>\n",
              "      <td>jashore</td>\n",
              "      <td>¿LeBron James con coronavirus? Lakers confirma...</td>\n",
              "      <td>2020-03-19 23:35:51+00:00</td>\n",
              "      <td>#coronavirus</td>\n",
              "      <td>https://twitter.com/elcomercio_peru/status/124...</td>\n",
              "    </tr>\n",
              "    <tr>\n",
              "      <th>19996</th>\n",
              "      <td>9996</td>\n",
              "      <td>jashore</td>\n",
              "      <td>สูงกว่าจีนแล้ว อิตาลีเสียชีวิต COVID-19 เพิ่มเ...</td>\n",
              "      <td>2020-03-19 23:35:51+00:00</td>\n",
              "      <td>#COVID19 #ThaiPBSnews</td>\n",
              "      <td>https://twitter.com/ThaiPBSNews/status/1240784...</td>\n",
              "    </tr>\n",
              "    <tr>\n",
              "      <th>19997</th>\n",
              "      <td>9997</td>\n",
              "      <td>jashore</td>\n",
              "      <td>@waraujo64 @nayibbukele lo que no les pasa por...</td>\n",
              "      <td>2020-03-19 23:35:50+00:00</td>\n",
              "      <td></td>\n",
              "      <td>https://twitter.com/VictorAlvarad12/status/124...</td>\n",
              "    </tr>\n",
              "    <tr>\n",
              "      <th>19998</th>\n",
              "      <td>9998</td>\n",
              "      <td>jashore</td>\n",
              "      <td>COVID-19は疾患名。ウイルスはSARS-CoV-2。記者は勘違いしてないか。 ＞「武漢...</td>\n",
              "      <td>2020-03-19 23:35:49+00:00</td>\n",
              "      <td></td>\n",
              "      <td>https://twitter.com/ymy_yusuke/status/12407840...</td>\n",
              "    </tr>\n",
              "    <tr>\n",
              "      <th>19999</th>\n",
              "      <td>9999</td>\n",
              "      <td>jashore</td>\n",
              "      <td>TEST COVID-19 LIKE THE FLU. YOU SHOULDNT HAVE ...</td>\n",
              "      <td>2020-03-19 23:35:49+00:00</td>\n",
              "      <td></td>\n",
              "      <td>https://twitter.com/bumblebryx/status/12407840...</td>\n",
              "    </tr>\n",
              "  </tbody>\n",
              "</table>\n",
              "<p>10002 rows × 6 columns</p>\n",
              "</div>"
            ],
            "text/plain": [
              "       tweet_count  ...                                               link\n",
              "0                0  ...  https://twitter.com/nishitahaque/status/124060...\n",
              "1                1  ...  https://twitter.com/mumtaj97/status/1240303487...\n",
              "10000            0  ...  https://twitter.com/Danielle61574/status/12407...\n",
              "10001            1  ...  https://twitter.com/oui_Le_bon/status/12407901...\n",
              "10002            2  ...  https://twitter.com/the_icehouse/status/124079...\n",
              "...            ...  ...                                                ...\n",
              "19995         9995  ...  https://twitter.com/elcomercio_peru/status/124...\n",
              "19996         9996  ...  https://twitter.com/ThaiPBSNews/status/1240784...\n",
              "19997         9997  ...  https://twitter.com/VictorAlvarad12/status/124...\n",
              "19998         9998  ...  https://twitter.com/ymy_yusuke/status/12407840...\n",
              "19999         9999  ...  https://twitter.com/bumblebryx/status/12407840...\n",
              "\n",
              "[10002 rows x 6 columns]"
            ]
          },
          "metadata": {
            "tags": []
          },
          "execution_count": 56
        }
      ]
    },
    {
      "cell_type": "code",
      "metadata": {
        "id": "ErQ4rp6Vx5wC",
        "colab_type": "code",
        "colab": {}
      },
      "source": [
        ""
      ],
      "execution_count": 0,
      "outputs": []
    },
    {
      "cell_type": "code",
      "metadata": {
        "id": "wFm7NEydx80v",
        "colab_type": "code",
        "colab": {}
      },
      "source": [
        ""
      ],
      "execution_count": 0,
      "outputs": []
    },
    {
      "cell_type": "code",
      "metadata": {
        "id": "ElBXRFtGR6S9",
        "colab_type": "code",
        "colab": {}
      },
      "source": [
        ""
      ],
      "execution_count": 0,
      "outputs": []
    },
    {
      "cell_type": "code",
      "metadata": {
        "id": "uhUEl7prbYwu",
        "colab_type": "code",
        "colab": {}
      },
      "source": [
        ""
      ],
      "execution_count": 0,
      "outputs": []
    }
  ]
}