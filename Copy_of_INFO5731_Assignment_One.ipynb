{
  "nbformat": 4,
  "nbformat_minor": 0,
  "metadata": {
    "colab": {
      "name": "Copy of INFO5731_Assignment_One.ipynb",
      "provenance": [],
      "collapsed_sections": [],
      "include_colab_link": true
    },
    "kernelspec": {
      "name": "python3",
      "display_name": "Python 3"
    }
  },
  "cells": [
    {
      "cell_type": "markdown",
      "metadata": {
        "id": "view-in-github",
        "colab_type": "text"
      },
      "source": [
        "<a href=\"https://colab.research.google.com/github/DeepakSaiPaty/Deepaksai_INFO5731_Spring2020/blob/master/Copy_of_INFO5731_Assignment_One.ipynb\" target=\"_parent\"><img src=\"https://colab.research.google.com/assets/colab-badge.svg\" alt=\"Open In Colab\"/></a>"
      ]
    },
    {
      "cell_type": "markdown",
      "metadata": {
        "id": "Ryk8D1Q4Wsrp",
        "colab_type": "text"
      },
      "source": [
        "# **INFO5731 Assignment One**"
      ]
    },
    {
      "cell_type": "markdown",
      "metadata": {
        "id": "90_NR8c5XGWc",
        "colab_type": "text"
      },
      "source": [
        "# Question 1\n",
        "\n",
        "(20 points). Write a Python program to generate 12 random numbers between 1 and 100. Sort the list of numbers in ascending order and print it out. Sort the list of numbers in descending order and print it out. Calculate the average for the group and print it out."
      ]
    },
    {
      "cell_type": "code",
      "metadata": {
        "id": "5QX6bJjGWXY9",
        "colab_type": "code",
        "outputId": "fd9449b5-5e62-485f-c3b3-a7b94b3b87e2",
        "colab": {
          "base_uri": "https://localhost:8080/",
          "height": 87
        }
      },
      "source": [
        "# Your code here\n",
        "import random\n",
        "from statistics import mean\n",
        "randoms=[]\n",
        "for i in range(12):\n",
        "  r1 = random.randint(0, 100)\n",
        "  randoms.append(r1)\n",
        "print(randoms)\n",
        "randoms.sort() \n",
        "print(randoms)\n",
        "randoms.sort(reverse = True)\n",
        "print(randoms) \n",
        "print('Avearge of the randoms=%f'%mean(randoms))\n"
      ],
      "execution_count": 0,
      "outputs": [
        {
          "output_type": "stream",
          "text": [
            "[17, 81, 12, 47, 27, 59, 79, 66, 17, 34, 86, 69]\n",
            "[12, 17, 17, 27, 34, 47, 59, 66, 69, 79, 81, 86]\n",
            "[86, 81, 79, 69, 66, 59, 47, 34, 27, 17, 17, 12]\n",
            "Avearge of the randoms=49.500000\n"
          ],
          "name": "stdout"
        }
      ]
    },
    {
      "cell_type": "markdown",
      "metadata": {
        "id": "1F_PZdH9Sh49",
        "colab_type": "text"
      },
      "source": [
        "# Question 2\n",
        "(25 points). Write a program that will do the following string formatting tasks:\n",
        "\n",
        "(1) Ask the user to enter two sentences.\n",
        "\n",
        "(2) Make each sentence into a list. Each element in the list should correspond to a word in the sentence. For example, if the sentence is \"Alas! Am I alive? This is my first python program\", the program should print out ['Alas, '!', 'Am', 'I', 'alive, '?', 'This', 'is', 'my', 'first', 'python', 'program'].\n",
        "\n",
        "(3) Compare the two sentences. Print out a list of words that occur in both sentences.\n",
        "\n",
        "(4) Remove any punctuation from the sentence and print it back out. It should remove at least the following characters, but it can remove more: period(“.”), comma (“,”), semicolon (“;”), and colon (“:”)\n",
        "\n",
        "(5) Count the number of vowels in the sentences. Print out each vowel and the number of times it appears in the sentences, such as: a:2, e:1, i:0, etc"
      ]
    },
    {
      "cell_type": "code",
      "metadata": {
        "id": "Y0oOSlsOS0cq",
        "colab_type": "code",
        "outputId": "dba09648-f17e-4877-847f-6b62ddf44bd6",
        "colab": {
          "base_uri": "https://localhost:8080/",
          "height": 243
        }
      },
      "source": [
        "# Your code here\n",
        "import re \n",
        "import string\n",
        "def into_list(sent):\n",
        "  p = re.compile(r'\\w+|[^\\w\\s]')#checking with a regular expression\n",
        "  print(p.findall(sent))\n",
        "def common_words(val,val2):\n",
        "  print(list(set(p.findall(val)).intersection(p.findall(val2))))\n",
        "def translation(sen):\n",
        "  print(sen.translate(str.maketrans('', '', string.punctuation)))\n",
        "def vowel_check(word):\n",
        "  vowels = 'aeiou' #assigning vowels\n",
        "  word = word.casefold()# make it suitable for caseless comparisions\n",
        "  count = {}.fromkeys(vowels,0)# make a dictionary with each vowel a key and value 0\n",
        "  for char in val:# count the vowels\n",
        "     if char in count:\n",
        "         count[char] += 1\n",
        "  print(count)\n",
        "val = input(\"Enter the first sentence=\") \n",
        "val2 = input(\"Enter the second sentence=\") \n",
        "print('List form of the sentences:')\n",
        "into_list(val)\n",
        "into_list(val2)\n",
        "print('Common words are=')\n",
        "common_words(val,val2)\n",
        "print('Sentences without Punctuation=')\n",
        "translation(val)\n",
        "translation(val2)\n",
        "print('Number of vowels in each sentence=')\n",
        "vowel_check(val)\n",
        "vowel_check(val2)"
      ],
      "execution_count": 0,
      "outputs": [
        {
          "output_type": "stream",
          "text": [
            "Enter the first sentence=deepak is good?\n",
            "Enter the second sentence=yes, deepak is good\n",
            "List form of the sentences:\n",
            "['deepak', 'is', 'good', '?']\n",
            "['yes', ',', 'deepak', 'is', 'good']\n",
            "Common words are=\n",
            "['good', 'is', 'deepak']\n",
            "Sentences without Punctuation=\n",
            "deepak is good\n",
            "yes deepak is good\n",
            "Number of vowels in each sentence=\n",
            "{'a': 1, 'e': 2, 'i': 1, 'o': 2, 'u': 0}\n",
            "{'a': 1, 'e': 2, 'i': 1, 'o': 2, 'u': 0}\n"
          ],
          "name": "stdout"
        }
      ]
    },
    {
      "cell_type": "markdown",
      "metadata": {
        "id": "CmFoI4jDS9nx",
        "colab_type": "text"
      },
      "source": [
        "# Question 3 \n",
        "\n",
        "(15 points). The formula that describes the volume V of a sphere with radius r is the following:\n",
        "\n",
        "$ V=\\frac{4}{3}\\ast\\ \\pi\\ast\\ r^3 $\n",
        "\n",
        "Write a program to calculate the value of V when r is in the range of 1–10. Output the result in the following format:\n",
        "\n",
        "\tr\tV\n",
        "\t1\t…\n",
        "\t2\t…\n",
        "\t3\t…\n"
      ]
    },
    {
      "cell_type": "code",
      "metadata": {
        "id": "pEyqeioAT95b",
        "colab_type": "code",
        "outputId": "16e2bf20-8fdf-47cd-e66e-290d5d33c685",
        "colab": {
          "base_uri": "https://localhost:8080/",
          "height": 191
        }
      },
      "source": [
        "# Your code here\n",
        "print(\"r\"+\"   \"+\"V\")\n",
        "for r in range(1,10):\n",
        "  V=(4/3)*(22/7)*(r**3)\n",
        "  print(str(r)+\"   \"+str(V))"
      ],
      "execution_count": 0,
      "outputs": [
        {
          "output_type": "stream",
          "text": [
            "r   V\n",
            "1   4.19047619047619\n",
            "2   33.52380952380952\n",
            "3   113.14285714285712\n",
            "4   268.19047619047615\n",
            "5   523.8095238095237\n",
            "6   905.142857142857\n",
            "7   1437.333333333333\n",
            "8   2145.523809523809\n",
            "9   3054.857142857142\n"
          ],
          "name": "stdout"
        }
      ]
    },
    {
      "cell_type": "markdown",
      "metadata": {
        "id": "z3tBE7E-Xn5X",
        "colab_type": "text"
      },
      "source": [
        "# Question 4\n",
        "\n",
        "(40 points). In the field of Data Science, data is often formatted as a comma-delimited (CSV) file, where each line in a file corresponds to a field's value. Refer to Chapter 9 (p. 106) for more information on comma-delimited files. To answer this question, you will need to download the file Assignment1_denton_housing.csv included with this assignment. The file Assignment1_denton_housing.csv contains statistics about housing in the city of Denton from 2008 to 2014. Write a program to implement the following questions.\n",
        "\n",
        "(1) (10 pts) Calculate the difference in the number of Occupied Housing Units from year to year and print it. The difference must be calculated for the consecutive years such as 2008-2009, 2009-2010 etc. Finally, print the values in the ascending order.\n",
        "\n",
        "(2) (10 pts) For all the years, calculate the percentage of housing units which are vacant an occupied. Print the results in the following format:\n",
        "\n",
        "Year Vacant Housing Units Occupied Housing Units\n",
        "\n",
        "    2008  30%   70%                          \n",
        "\t2009 ----- -----\n",
        "\t2010 ----- -----\n",
        "    2011 ----- -----\n",
        "\t2012 ----- -----\n",
        "    2013 ----- -----\n",
        "\t2014 ----- -----\n",
        "  \n",
        "  \n",
        "\n",
        "(3) (10 pts) Calculate and print the valued and years in which the highest number of housing units were vacant and occupied. Print the results in the following format:  \n",
        "\n",
        "                              Year\tValue\n",
        "\tVacant Housing Units\t  -----   -----\n",
        "\tOccupied Housing Units\t-----   -----\n",
        "\n",
        "(4) (10 pts) Calculate the harmonic mean of the total housing units and print it out. You can find the information about harmonic mean here: https://ncalculators.com/statistics/harmonic-mean-calculator.htm"
      ]
    },
    {
      "cell_type": "code",
      "metadata": {
        "id": "lqGYuHBhcsRH",
        "colab_type": "code",
        "colab": {}
      },
      "source": [
        "# Your code here\n",
        "\n",
        "\n"
      ],
      "execution_count": 0,
      "outputs": []
    }
  ]
}