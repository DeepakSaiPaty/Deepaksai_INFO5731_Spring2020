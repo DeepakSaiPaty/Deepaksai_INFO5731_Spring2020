{
  "nbformat": 4,
  "nbformat_minor": 0,
  "metadata": {
    "colab": {
      "name": "Untitled1.ipynb",
      "provenance": [],
      "authorship_tag": "ABX9TyPJ+9QFgOnB1VT4jlFzfFmk",
      "include_colab_link": true
    },
    "kernelspec": {
      "name": "python3",
      "display_name": "Python 3"
    }
  },
  "cells": [
    {
      "cell_type": "markdown",
      "metadata": {
        "id": "view-in-github",
        "colab_type": "text"
      },
      "source": [
        "<a href=\"https://colab.research.google.com/github/DeepakSaiPaty/Deepaksai_INFO5731_Spring2020/blob/master/Untitled1.ipynb\" target=\"_parent\"><img src=\"https://colab.research.google.com/assets/colab-badge.svg\" alt=\"Open In Colab\"/></a>"
      ]
    },
    {
      "cell_type": "code",
      "metadata": {
        "id": "eBeWM4xH08_b",
        "colab_type": "code",
        "colab": {
          "base_uri": "https://localhost:8080/",
          "height": 87
        },
        "outputId": "4b945627-cf97-4e81-b3a5-1d9f7ce97e6e"
      },
      "source": [
        "#Question 1\n",
        "import random\n",
        "from statistics import mean\n",
        "randoms=[]\n",
        "for i in range(12):\n",
        "  r1 = random.randint(0, 100)\n",
        "  randoms.append(r1)\n",
        "print(randoms)\n",
        "randoms.sort() \n",
        "print(randoms)\n",
        "randoms.sort(reverse = True)\n",
        "print(randoms) \n",
        "print('Avearge of the randoms=%f'%mean(randoms))\n"
      ],
      "execution_count": 13,
      "outputs": [
        {
          "output_type": "stream",
          "text": [
            "[86, 75, 25, 27, 15, 78, 32, 26, 32, 10, 21, 79]\n",
            "[10, 15, 21, 25, 26, 27, 32, 32, 75, 78, 79, 86]\n",
            "[86, 79, 78, 75, 32, 32, 27, 26, 25, 21, 15, 10]\n",
            "Avearge of the randoms=42.166667\n"
          ],
          "name": "stdout"
        }
      ]
    },
    {
      "cell_type": "code",
      "metadata": {
        "id": "ETqW6sIb3z4-",
        "colab_type": "code",
        "colab": {
          "base_uri": "https://localhost:8080/",
          "height": 87
        },
        "outputId": "33fbbb21-2abf-4c29-f287-c4484bd6ba42"
      },
      "source": [
        "import re\n",
        "first=[]\n",
        "second=[] \n",
        "val = input(\"Enter the first sentence=\") \n",
        "p = re.compile(r'\\w+|[^\\w\\s]')\n",
        "print(p.findall(val))\n",
        "val2 = input(\"Enter the second sentence=\") \n",
        "print(p.findall(val2))"
      ],
      "execution_count": 40,
      "outputs": [
        {
          "output_type": "stream",
          "text": [
            "Enter the first sentence=Deepak! sai paty\n",
            "['Deepak', '!', 'sai', 'paty']\n",
            "Enter the second sentence=masters##\n",
            "['masters', '#', '#']\n"
          ],
          "name": "stdout"
        }
      ]
    },
    {
      "cell_type": "code",
      "metadata": {
        "id": "nJXv7wAV6mYj",
        "colab_type": "code",
        "colab": {}
      },
      "source": [
        ""
      ],
      "execution_count": 0,
      "outputs": []
    }
  ]
}